{
 "metadata": {
  "name": ""
 },
 "nbformat": 3,
 "nbformat_minor": 0,
 "worksheets": [
  {
   "cells": [
    {
     "cell_type": "code",
     "collapsed": false,
     "input": [
      "from everything import __future__ as PyConAPAC",
      "# click the logo for more infomation!"
     ],
     "language": "python",
     "metadata": {},
     "outputs": [
      {
       "html": [
        "<a href=\"http://tw.pycon.org/2014apac/en/\" target=\"_blank\" class=\"svg\"><svg enable-background=\"new 4784.332 2788.145 461.619 152.118\" height=\"152.118px\" id=\"Layer_1\" version=\"1.1\" viewBox=\"4784.332 2788.145 461.619 152.118\" width=\"461.619px\" x=\"0px\" xml:space=\"preserve\" xmlns=\"http://www.w3.org/2000/svg\" xmlns:xlink=\"http://www.w3.org/1999/xlink\" y=\"0px\">\n",
        "<g>\n",
        "\t<path d=\"M4826.781,2936.36l-6.527-25.453l3.43-8.292c0.43-1.207,0.076-2.661-0.799-3.284l-15.896-11.305   c-0.303-0.215-0.639-0.303-0.97-0.272l-0.156-0.001l-0.157,0.001c-0.331-0.03-0.666,0.057-0.969,0.272l-15.896,11.305   c-0.876,0.623-1.229,2.077-0.799,3.284l3.43,8.292l-6.526,25.453c-0.11,0.732,0.029,1.492,0.377,2.071   c0.349,0.577,0.87,0.913,1.42,0.91l18.912-0.04l0.15-0.021l0.058,0.021l0.057-0.021l0.149,0.021l18.913,0.04   c0.551,0.002,1.072-0.333,1.42-0.91C4826.751,2937.852,4826.891,2937.092,4826.781,2936.36\" fill=\"#04556A\"/>\n",
        "\t<path d=\"M4791.88,2890.831c0.217,0.605,0.604,1.067,1.075,1.278c0.186,0.086,0.382,0.126,0.576,0.126   c0.293,0,0.585-0.096,0.85-0.284l11.513-8.186l11.532,8.137c0.265,0.187,0.556,0.282,0.847,0.282   c0.195-0.001,0.39-0.043,0.577-0.129c0.472-0.214,0.858-0.677,1.073-1.282l3.674-10.404c0.428-1.209,0.07-2.66-0.807-3.279   l-15.921-11.239c-0.312-0.22-0.659-0.305-0.997-0.268c-0.34-0.036-0.685,0.049-0.998,0.27l-15.896,11.308   c-0.876,0.624-1.229,2.076-0.799,3.284L4791.88,2890.831\" fill=\"#D0272B\"/>\n",
        "\t<path d=\"M4791.854,2869.031c0.216,0.608,0.605,1.069,1.075,1.28c0.188,0.084,0.383,0.125,0.577,0.125   c0.292,0,0.584-0.098,0.848-0.285l11.513-8.188l11.533,8.141c0.265,0.186,0.557,0.28,0.848,0.28c0.194,0,0.389-0.043,0.577-0.128   c0.47-0.214,0.858-0.676,1.071-1.283l3.676-10.401c0.427-1.211,0.071-2.662-0.807-3.281l-15.921-11.239   c-0.313-0.22-0.66-0.306-0.998-0.267c-0.339-0.037-0.685,0.051-0.997,0.271l-15.896,11.307c-0.875,0.622-1.229,2.075-0.798,3.284   L4791.854,2869.031\" fill=\"#04556A\"/>\n",
        "\t<path d=\"M4810.917,2813.852c-1.164,0.227-2.339-0.868-2.631-2.444c-0.291-1.576,0.415-3.038,1.577-3.264   c1.161-0.226,2.34,0.868,2.629,2.444C4812.783,2812.164,4812.076,2813.626,4810.917,2813.852z M4803.672,2811.408   c-0.291,1.576-1.467,2.671-2.63,2.444c-1.161-0.225-1.869-1.688-1.577-3.265c0.29-1.575,1.469-2.67,2.63-2.444   C4803.257,2808.37,4803.963,2809.831,4803.672,2811.408z M4826.303,2831.652c-4.274-3.2-9.096-5.475-13.559-8.159   c1.278-2.67,2.662-5.425,3.708-8.277c2.551-6.958-5.023-11.708-8.367-14.865l-1.135-0.844c-0.124-1.399-0.259-3.256-0.259-4.709   c0-2.68,1.783-6.653,1.783-6.653l-2.586,2.68l-2.585-2.68c0,0,1.781,3.973,1.781,6.653c0,1.452-0.131,3.306-0.252,4.705   l-1.141,0.848c-3.343,3.158-10.918,7.907-8.367,14.865c1.046,2.852,2.43,5.606,3.708,8.277c-4.463,2.684-9.284,4.959-13.56,8.159   c-1.026,0.767-1.431,2.494-0.919,3.925l4.457,12.518c0.26,0.731,0.729,1.287,1.295,1.541c0.226,0.103,0.462,0.152,0.695,0.152   c0.353-0.001,0.705-0.115,1.022-0.342l13.864-9.861l13.864,9.861c0.317,0.226,0.668,0.341,1.022,0.342   c0.232,0,0.469-0.049,0.694-0.152c0.568-0.254,1.037-0.809,1.296-1.541l4.457-12.518   C4827.734,2834.146,4827.329,2832.419,4826.303,2831.652\" fill=\"#D0272B\"/>\n",
        "\t<path d=\"M4882.667,2889.938c5.603,0,9.297-2.892,9.297-13.956c-0.127-10.813-4.84-12.95-9.297-12.95h-20.883v26.906   H4882.667z M4843.956,2847.442h40.112c11.715,0,25.85,3.646,25.85,28.414c0,28.038-15.154,30.049-25.85,29.672   c-5.094-0.251-21.647-2.263-22.284-2.514v36.461h-17.828V2847.442\" fill=\"#04556A\"/>\n",
        "\t<path d=\"M4934.617,2847.442l18.21,44.13l19.993-44.13h19.355l-30.688,63.492v28.541h-17.828v-28.541l-28.397-63.492   H4934.617\" fill=\"#04556A\"/>\n",
        "\t<path d=\"M5031.518,2846.437c12.989,0,22.413,1.257,32.473,4.149v13.83c-0.129,0-15.792-1.76-28.271-1.76   c-13.116,0-18.082,2.892-18.082,30.804c0,20.619,3.438,30.552,18.082,30.552c13.371,0,28.271-1.006,28.271-1.006v13.705   c-8.405,2.64-19.102,3.771-32.473,3.52c-23.557-0.251-31.707-17.853-31.707-47.022   C4999.811,2863.787,5006.178,2846.437,5031.518,2846.437\" fill=\"#D0272B\"/>\n",
        "\t<path d=\"M5114.16,2923.759c15.025,0,19.61-4.904,19.61-29.672c0-28.666-0.418-31.055-14.553-31.055   c-13.753,0-24.668,1.761-24.668,31.055C5094.549,2919.233,5098.242,2923.759,5114.16,2923.759z M5119.217,2846.814   c22.029,0,32.38,4.149,32.38,47.273c0,40.61-14.517,45.89-37.438,45.89c-22.921,0-37.438-4.023-37.438-45.89   C5076.721,2850.962,5097.824,2846.814,5119.217,2846.814\" fill=\"#D0272B\"/>\n",
        "\t<path d=\"M5173.112,2847.442h18.083l36.928,59.469v-59.469h17.827v92.033h-17.827l-37.055-58.841v58.841h-17.956   V2847.442\" fill=\"#D0272B\"/>\n",
        "\t<g>\n",
        "\t\t<path d=\"M5205.187,2806.618h-2.106v7.407h2.106c0.554,0,1.025-0.197,1.413-0.591    c0.388-0.394,0.582-0.868,0.582-1.423v-3.381c0-0.603-0.182-1.09-0.545-1.459    C5206.273,2806.803,5205.79,2806.618,5205.187,2806.618z\" fill=\"#6E6F72\"/>\n",
        "\t\t<polygon fill=\"#6E6F72\" points=\"5190.453,2817.48 5193.039,2817.48 5191.746,2808.355   \"/>\n",
        "\t\t<polygon fill=\"#6E6F72\" points=\"5214.736,2817.48 5217.322,2817.48 5216.029,2808.355   \"/>\n",
        "\t\t<path d=\"M5237.851,2791.896h-113.817c-4.294,0-7.775,3.481-7.775,7.774v29.47c0,4.294,3.481,7.774,7.775,7.774    h113.816c4.294,0,7.775-3.481,7.775-7.774v-29.47C5245.625,2795.376,5242.144,2791.896,5237.851,2791.896z M5140.101,2822.764    v3.417h-11.103v-3.203c0-0.074,0.254-0.499,0.762-1.278c0.235-0.356,0.5-0.749,0.798-1.18l0.91-1.309    c0.529-0.726,1.362-1.889,2.496-3.49c1.072-1.502,1.875-2.862,2.405-4.081c0.432-0.997,0.647-1.927,0.647-2.789    c0-0.701-0.197-1.299-0.59-1.791c-0.432-0.517-0.985-0.775-1.663-0.775c-0.973,0-1.663,0.561-2.068,1.681    c-0.136,0.369-0.203,0.813-0.203,1.33v0.887h-3.436v-0.61c0-2.192,0.591-3.867,1.774-5.025c1.021-1.022,2.364-1.533,4.027-1.533    c1.526,0,2.829,0.572,3.907,1.718c1.078,1.145,1.616,2.482,1.616,4.009c0,1.576-0.351,3.098-1.053,4.563    c-0.381,0.813-1.275,2.211-2.679,4.194c-0.381,0.542-0.948,1.385-1.7,2.531l-0.628,0.942c-0.406,0.616-0.714,1.103-0.923,1.46    c-0.099,0.183-0.148,0.293-0.148,0.332h6.853V2822.764z M5152.907,2820.917c0,1.54-0.542,2.845-1.625,3.916    c-1.084,1.071-2.383,1.608-3.898,1.608c-1.54,0-2.848-0.539-3.926-1.616c-1.078-1.077-1.616-2.38-1.616-3.907v-12.636    c0-1.539,0.542-2.847,1.626-3.926c1.083-1.077,2.389-1.616,3.916-1.616c1.54,0,2.845,0.542,3.917,1.626    c1.071,1.084,1.607,2.389,1.607,3.916V2820.917z M5160.891,2826.2h-3.492v-17.827h-2.974v-2.439    c0.836-0.098,1.635-0.415,2.392-0.951c0.758-0.535,1.303-1.185,1.635-1.949h2.438L5160.891,2826.2L5160.891,2826.2z     M5175.006,2821.194h-2.235v4.988h-3.491v-4.988h-6.17v-3.51l6.17-14.668h3.491v14.668h2.235V2821.194z M5194.375,2826.2    l-0.817-5.321h-3.646l-0.848,5.321h-3.635l3.935-23.148h4.802l3.879,23.148H5194.375z M5205.094,2817.48h-2.014v8.719h-3.491    v-23.148h5.505c1.699,0,3.054,0.536,4.064,1.608c0.936,1.022,1.404,2.328,1.404,3.916v3.362c0,1.527-0.533,2.833-1.598,3.916    C5207.899,2816.939,5206.608,2817.48,5205.094,2817.48z M5218.658,2826.2l-0.817-5.321h-3.646l-0.848,5.321h-3.635l3.935-23.148    h4.803l3.879,23.148H5218.658z M5234.392,2810.978h-3.622v-2.715c0-0.554-0.196-1.028-0.591-1.423    c-0.395-0.394-0.868-0.591-1.423-0.591c-0.554,0-1.025,0.197-1.413,0.591c-0.388,0.395-0.582,0.868-0.582,1.423v12.673    c0,0.554,0.194,1.025,0.582,1.413c0.388,0.388,0.859,0.582,1.413,0.582c0.555,0,1.028-0.194,1.423-0.582    c0.395-0.388,0.591-0.859,0.591-1.413v-3.196h3.622v3.233c0,1.54-0.542,2.845-1.625,3.916c-1.084,1.071-2.384,1.608-3.899,1.608    c-1.54,0-2.847-0.539-3.925-1.616c-1.079-1.077-1.616-2.38-1.616-3.907v-12.636c0-1.539,0.542-2.847,1.625-3.926    c1.084-1.077,2.39-1.616,3.916-1.616c1.54,0,2.845,0.542,3.917,1.626c1.07,1.084,1.607,2.389,1.607,3.916V2810.978z\" fill=\"#6E6F72\"/>\n",
        "\t\t<path d=\"M5147.273,2806.193c-0.554,0-1.025,0.197-1.414,0.591c-0.388,0.394-0.583,0.868-0.583,1.423v12.654    c0,0.554,0.195,1.028,0.583,1.423c0.388,0.394,0.859,0.591,1.414,0.591s1.028-0.197,1.423-0.591    c0.394-0.394,0.591-0.868,0.591-1.423v-12.654c0-0.554-0.197-1.028-0.591-1.423    C5148.301,2806.39,5147.827,2806.193,5147.273,2806.193z\" fill=\"#6E6F72\"/>\n",
        "\t\t<polygon fill=\"#6E6F72\" points=\"5169.28,2817.683 5169.28,2810.449 5166.396,2817.683   \"/>\n",
        "\t</g>\n",
        "</g>\n",
        "</svg></a>\n",
        "<style>\n",
        "a.svg:after {\n",
        "  content: \"\";\n",
        "  position: absolute;\n",
        "  top: 0;\n",
        "  right: 0;\n",
        "  bottom: 0;\n",
        "  left: 0;\n",
        "}\n",
        "</style>\n"
       ],
       "metadata": {},
       "output_type": "pyout",
       "prompt_number": 0,
       "text": [
        "<IPython.core.display.HTML at 0x10ab91b50>"
       ]
      }
     ],
     "prompt_number": 0
    },
    {
     "cell_type": "code",
     "collapsed": false,
     "input": [
      "%matplotlib inline"
     ],
     "language": "python",
     "metadata": {},
     "outputs": [],
     "prompt_number": 1
    },
    {
     "cell_type": "markdown",
     "metadata": {},
     "source": [
      "# Video: W01_L01_P03"
     ]
    },
    {
     "cell_type": "code",
     "collapsed": false,
     "input": [
      "import numpy as np\n",
      "import pylab as pl"
     ],
     "language": "python",
     "metadata": {},
     "outputs": [],
     "prompt_number": 2
    },
    {
     "cell_type": "code",
     "collapsed": false,
     "input": [
      "L = 20\n",
      "n = 120"
     ],
     "language": "python",
     "metadata": {},
     "outputs": [],
     "prompt_number": 3
    },
    {
     "cell_type": "code",
     "collapsed": false,
     "input": [
      "x2 = np.linspace(-L/2,L/2,n+1)\n",
      "print x2\n",
      "print x2.shape"
     ],
     "language": "python",
     "metadata": {},
     "outputs": [
      {
       "output_type": "stream",
       "stream": "stdout",
       "text": [
        "[-10.          -9.83333333  -9.66666667  -9.5         -9.33333333\n",
        "  -9.16666667  -9.          -8.83333333  -8.66666667  -8.5         -8.33333333\n",
        "  -8.16666667  -8.          -7.83333333  -7.66666667  -7.5         -7.33333333\n",
        "  -7.16666667  -7.          -6.83333333  -6.66666667  -6.5         -6.33333333\n",
        "  -6.16666667  -6.          -5.83333333  -5.66666667  -5.5         -5.33333333\n",
        "  -5.16666667  -5.          -4.83333333  -4.66666667  -4.5         -4.33333333\n",
        "  -4.16666667  -4.          -3.83333333  -3.66666667  -3.5         -3.33333333\n",
        "  -3.16666667  -3.          -2.83333333  -2.66666667  -2.5         -2.33333333\n",
        "  -2.16666667  -2.          -1.83333333  -1.66666667  -1.5         -1.33333333\n",
        "  -1.16666667  -1.          -0.83333333  -0.66666667  -0.5         -0.33333333\n",
        "  -0.16666667   0.           0.16666667   0.33333333   0.5          0.66666667\n",
        "   0.83333333   1.           1.16666667   1.33333333   1.5          1.66666667\n",
        "   1.83333333   2.           2.16666667   2.33333333   2.5          2.66666667\n",
        "   2.83333333   3.           3.16666667   3.33333333   3.5          3.66666667\n",
        "   3.83333333   4.           4.16666667   4.33333333   4.5          4.66666667\n",
        "   4.83333333   5.           5.16666667   5.33333333   5.5          5.66666667\n",
        "   5.83333333   6.           6.16666667   6.33333333   6.5          6.66666667\n",
        "   6.83333333   7.           7.16666667   7.33333333   7.5          7.66666667\n",
        "   7.83333333   8.           8.16666667   8.33333333   8.5          8.66666667\n",
        "   8.83333333   9.           9.16666667   9.33333333   9.5          9.66666667\n",
        "   9.83333333  10.        ]\n",
        "(121,)\n"
       ]
      }
     ],
     "prompt_number": 4
    },
    {
     "cell_type": "code",
     "collapsed": false,
     "input": [
      "x = x2[:-1]\n",
      "print x.shape"
     ],
     "language": "python",
     "metadata": {},
     "outputs": [
      {
       "output_type": "stream",
       "stream": "stdout",
       "text": [
        "(120,)\n"
       ]
      }
     ],
     "prompt_number": 5
    },
    {
     "cell_type": "code",
     "collapsed": false,
     "input": [
      "u = np.exp(-x**2)\n",
      "print u"
     ],
     "language": "python",
     "metadata": {},
     "outputs": [
      {
       "output_type": "stream",
       "stream": "stdout",
       "text": [
        "[  3.72007598e-44   1.01422975e-42   2.61573301e-41   6.38150345e-40\n",
        "   1.47273678e-38   3.21513923e-37   6.63967720e-36   1.29707974e-34\n",
        "   2.39694967e-33   4.19009319e-32   6.92884712e-31   1.08385405e-29\n",
        "   1.60381089e-28   2.24495707e-27   2.97259301e-26   3.72336312e-25\n",
        "   4.41171920e-24   4.94484702e-23   5.24288566e-22   5.25848261e-21\n",
        "   4.98910939e-20   4.47773244e-19   3.80159442e-18   3.05313461e-17\n",
        "   2.31952283e-16   1.66695501e-15   1.13323932e-14   7.28772410e-14\n",
        "   4.43337775e-13   2.55123274e-12   1.38879439e-11   7.15151993e-11\n",
        "   3.48362407e-10   1.60522806e-09   6.99704599e-09   2.88512906e-08\n",
        "   1.12535175e-07   4.15225353e-07   1.44927889e-06   4.78511739e-06\n",
        "   1.49453385e-05   4.41561749e-05   1.23409804e-04   3.26272454e-04\n",
        "   8.15987835e-04   1.93045414e-03   4.32023947e-03   9.14594704e-03\n",
        "   1.83156389e-02   3.46966856e-02   6.21765240e-02   1.05399225e-01\n",
        "   1.69013315e-01   2.56375757e-01   3.67879441e-01   4.99351789e-01\n",
        "   6.41180388e-01   7.78800783e-01   8.94839317e-01   9.72604477e-01\n",
        "   1.00000000e+00   9.72604477e-01   8.94839317e-01   7.78800783e-01\n",
        "   6.41180388e-01   4.99351789e-01   3.67879441e-01   2.56375757e-01\n",
        "   1.69013315e-01   1.05399225e-01   6.21765240e-02   3.46966856e-02\n",
        "   1.83156389e-02   9.14594704e-03   4.32023947e-03   1.93045414e-03\n",
        "   8.15987835e-04   3.26272454e-04   1.23409804e-04   4.41561749e-05\n",
        "   1.49453385e-05   4.78511739e-06   1.44927889e-06   4.15225353e-07\n",
        "   1.12535175e-07   2.88512906e-08   6.99704599e-09   1.60522806e-09\n",
        "   3.48362407e-10   7.15151993e-11   1.38879439e-11   2.55123274e-12\n",
        "   4.43337775e-13   7.28772410e-14   1.13323932e-14   1.66695501e-15\n",
        "   2.31952283e-16   3.05313461e-17   3.80159442e-18   4.47773244e-19\n",
        "   4.98910939e-20   5.25848261e-21   5.24288566e-22   4.94484702e-23\n",
        "   4.41171920e-24   3.72336312e-25   2.97259301e-26   2.24495707e-27\n",
        "   1.60381089e-28   1.08385405e-29   6.92884712e-31   4.19009319e-32\n",
        "   2.39694967e-33   1.29707974e-34   6.63967720e-36   3.21513923e-37\n",
        "   1.47273678e-38   6.38150345e-40   2.61573301e-41   1.01422975e-42]\n"
       ]
      }
     ],
     "prompt_number": 6
    },
    {
     "cell_type": "code",
     "collapsed": false,
     "input": [
      "pl.plot(x,u)"
     ],
     "language": "python",
     "metadata": {},
     "outputs": [
      {
       "metadata": {},
       "output_type": "pyout",
       "prompt_number": 7,
       "text": [
        "[<matplotlib.lines.Line2D at 0x3df7f50>]"
       ]
      },
      {
       "metadata": {},
       "output_type": "display_data",
       "png": "[encoded data removed]",
       "text": [
        "<matplotlib.figure.Figure at 0x2d25590>"
       ]
      }
     ],
     "prompt_number": 7
    },
    {
     "cell_type": "code",
     "collapsed": false,
     "input": [
      "ut = np.fft.fft(u)\n",
      "print ut"
     ],
     "language": "python",
     "metadata": {},
     "outputs": [
      {
       "output_type": "stream",
       "stream": "stdout",
       "text": [
        "[  1.06347231e+01 +0.00000000e+00j  -1.03755326e+01 +1.05646184e-14j\n",
        "   9.63525115e+00 -9.10743616e-15j  -8.51695015e+00 +1.60188898e-14j\n",
        "   7.16594710e+00 -1.11610729e-14j  -5.73893778e+00 +1.42870572e-14j\n",
        "   4.37479655e+00 -6.71684930e-15j  -3.17433408e+00 +7.39007447e-15j\n",
        "   2.19237999e+00 -3.82693790e-15j  -1.44127699e+00 +2.71606957e-15j\n",
        "   9.01877400e-01 -9.05387747e-16j  -5.37175233e-01 -2.70742243e-16j\n",
        "   3.04545989e-01 -7.84095011e-16j  -1.64345650e-01 -4.78631213e-16j\n",
        "   8.44173994e-02 +1.12049346e-15j  -4.12737711e-02 -1.96672320e-15j\n",
        "   1.92081155e-02 +2.05058106e-15j  -8.50871142e-03 -3.14344432e-15j\n",
        "   3.58765981e-03 +1.22124533e-15j  -1.43988280e-03 -2.82397735e-15j\n",
        "   5.50061763e-04 +3.05644486e-15j  -2.00015751e-04 -4.22282433e-15j\n",
        "   6.92285704e-05 +4.44449945e-15j  -2.28073568e-05 -5.37776816e-15j\n",
        "   7.15209008e-06 -6.21762416e-16j  -2.13481095e-06 -4.39261238e-16j\n",
        "   6.06532803e-07 +8.41039477e-16j  -1.64027852e-07 -1.82161092e-15j\n",
        "   4.22230231e-08 +8.91912292e-16j  -1.03454532e-08 -1.59906775e-15j\n",
        "   2.41278197e-09 -6.36965597e-16j  -5.35618365e-10 -1.18385208e-16j\n",
        "   1.13177663e-10 -3.84030602e-16j  -2.27636902e-11 +2.71302702e-16j\n",
        "   4.35730618e-12 -1.68676281e-15j  -7.94170285e-13 +8.14832094e-16j\n",
        "   1.36335387e-13 -2.72139164e-15j  -2.20379270e-14 +1.16534965e-15j\n",
        "   2.72004641e-15 -4.92430301e-16j  -6.66133815e-16 -1.27637962e-15j\n",
        "   0.00000000e+00 +1.21552840e-15j  -1.11022302e-15 -3.57960494e-15j\n",
        "  -4.44089210e-16 +3.14412867e-15j  -4.44089210e-16 -5.09848479e-15j\n",
        "   0.00000000e+00 +5.06943293e-15j   0.00000000e+00 -6.24487423e-15j\n",
        "   8.88178420e-16 +6.05410277e-15j   0.00000000e+00 -6.73916852e-15j\n",
        "   1.11022302e-15 +1.95044484e-15j  -1.24024851e-15 -2.51108270e-15j\n",
        "   3.65386297e-16 +1.66862022e-15j  -4.24803964e-16 -2.33887490e-15j\n",
        "   3.53477013e-16 +1.81258807e-15j  -5.58364119e-17 -2.27731351e-15j\n",
        "   3.29597460e-16 +5.12921782e-16j   1.04950770e-16 -1.09999546e-15j\n",
        "   5.20417043e-18 +1.17306068e-15j   9.36750677e-17 -1.82525610e-15j\n",
        "   2.08166817e-17 +1.66115137e-15j   1.45716772e-16 -2.01674761e-15j\n",
        "  -1.42247325e-16 +1.25107518e-16j  -2.77555756e-17 -8.44002958e-16j\n",
        "  -1.11022302e-16 +8.55193704e-16j  -2.22044605e-16 -1.69577019e-15j\n",
        "   1.94289029e-16 +1.93336758e-15j  -6.10622664e-16 -2.67028854e-15j\n",
        "   1.33226763e-15 +1.00906031e-15j  -1.55431223e-15 -1.80809928e-15j\n",
        "   1.88737914e-15 +2.62752538e-15j  -1.77635684e-15 -3.60835893e-15j\n",
        "   1.66533454e-15 +2.96141185e-15j  -2.88657986e-15 -3.91205894e-15j\n",
        "   1.11022302e-15 -1.95044484e-15j  -1.86837596e-15 +1.38980697e-15j\n",
        "   9.66881333e-16 -1.90961975e-15j  -1.35155288e-15 +1.23936507e-15j\n",
        "   5.34701406e-16 -1.76565190e-15j   2.77881017e-16 +3.56514352e-16j\n",
        "   5.58580959e-16 -1.59884790e-15j   1.17093835e-16 -9.39627400e-17j\n",
        "  -4.49293380e-16 +1.82433108e-16j   7.94503352e-16 -2.08040094e-15j\n",
        "   1.56125113e-15 +2.38556015e-15j  -1.96440086e-14 -4.07676486e-15j\n",
        "   1.36248651e-13 +2.97445380e-15j  -7.91755550e-13 -3.70601665e-15j\n",
        "   4.35562697e-12 +2.92165710e-15j  -2.27602381e-11 -3.72505912e-15j\n",
        "   1.13174775e-10 +2.93758197e-15j  -5.35614386e-10 -3.76147884e-15j\n",
        "   2.41277975e-09 +2.14197091e-15j  -1.03454492e-08 -2.99172050e-15j\n",
        "   4.22230190e-08 +2.86309783e-15j  -1.64027845e-07 -4.27891230e-15j\n",
        "   6.06532798e-07 +3.76247976e-15j  -2.13481094e-06 -5.27498566e-15j\n",
        "   7.15209008e-06 +6.21762416e-16j  -2.28073568e-05 -1.68278607e-15j\n",
        "   6.92285704e-05 +7.17798259e-16j  -2.00015751e-04 -1.69836970e-15j\n",
        "   5.50061763e-04 +7.68671074e-16j  -1.43988280e-03 -2.05950532e-15j\n",
        "   3.58765981e-03 +6.68179845e-16j  -8.50871142e-03 -1.32382641e-15j\n",
        "   1.92081155e-02 +3.74130603e-16j  -4.12737711e-02 -1.32204547e-15j\n",
        "   8.44173994e-02 +7.83921866e-16j  -1.64345650e-01 -1.63295948e-15j\n",
        "   3.04545989e-01 +4.05925338e-16j  -5.37175233e-01 -7.50300948e-16j\n",
        "   9.01877400e-01 +1.79413658e-17j  -1.44127699e+00 +6.34428546e-16j\n",
        "   2.19237999e+00 -9.37267038e-16j  -3.17433408e+00 +4.09893319e-15j\n",
        "   4.37479655e+00 +2.55155963e-16j  -5.73893778e+00 +5.26373331e-15j\n",
        "   7.16594710e+00 -7.77117243e-15j  -8.51695015e+00 +1.72248626e-14j\n",
        "   9.63525115e+00 -1.72044571e-14j  -1.03755326e+01 +2.88320543e-14j]\n"
       ]
      }
     ],
     "prompt_number": 8
    },
    {
     "cell_type": "code",
     "collapsed": false,
     "input": [
      "pl.plot(x,ut)"
     ],
     "language": "python",
     "metadata": {},
     "outputs": [
      {
       "output_type": "stream",
       "stream": "stderr",
       "text": [
        "/usr/local/lib/python2.7/dist-packages/numpy/core/numeric.py:460: ComplexWarning: Casting complex values to real discards the imaginary part\n",
        "  return array(a, dtype, copy=False, order=order)\n"
       ]
      },
      {
       "metadata": {},
       "output_type": "pyout",
       "prompt_number": 9,
       "text": [
        "[<matplotlib.lines.Line2D at 0x3f6c210>]"
       ]
      },
      {
       "metadata": {},
       "output_type": "display_data",
       "png": "[encoded data removed]",
       "text": [
        "<matplotlib.figure.Figure at 0x3ddaa10>"
       ]
      }
     ],
     "prompt_number": 9
    },
    {
     "cell_type": "code",
     "collapsed": false,
     "input": [
      "pl.plot(x,np.fft.fftshift(ut))"
     ],
     "language": "python",
     "metadata": {},
     "outputs": [
      {
       "metadata": {},
       "output_type": "pyout",
       "prompt_number": 10,
       "text": [
        "[<matplotlib.lines.Line2D at 0x41e8350>]"
       ]
      },
      {
       "metadata": {},
       "output_type": "display_data",
       "png": "[encoded data removed]",
       "text": [
        "<matplotlib.figure.Figure at 0x3f5fb10>"
       ]
      }
     ],
     "prompt_number": 10
    },
    {
     "cell_type": "code",
     "collapsed": false,
     "input": [
      "pl.plot(np.abs(np.fft.fftshift(ut)))"
     ],
     "language": "python",
     "metadata": {},
     "outputs": [
      {
       "metadata": {},
       "output_type": "pyout",
       "prompt_number": 24,
       "text": [
        "[<matplotlib.lines.Line2D at 0x4717f50>]"
       ]
      },
      {
       "metadata": {},
       "output_type": "display_data",
       "png": "[encoded data removed]",
       "text": [
        "<matplotlib.figure.Figure at 0x45a6310>"
       ]
      }
     ],
     "prompt_number": 24
    },
    {
     "cell_type": "code",
     "collapsed": false,
     "input": [
      "np.pi"
     ],
     "language": "python",
     "metadata": {},
     "outputs": [
      {
       "metadata": {},
       "output_type": "pyout",
       "prompt_number": 12,
       "text": [
        "3.141592653589793"
       ]
      }
     ],
     "prompt_number": 12
    },
    {
     "cell_type": "code",
     "collapsed": false,
     "input": [
      "np.fft.fftfreq(n,1.0/n)"
     ],
     "language": "python",
     "metadata": {},
     "outputs": [
      {
       "metadata": {},
       "output_type": "pyout",
       "prompt_number": 23,
       "text": [
        "array([  0.,   1.,   2.,   3.,   4.,   5.,   6.,   7.,   8.,   9.,  10.,\n",
        "        11.,  12.,  13.,  14.,  15.,  16.,  17.,  18.,  19.,  20.,  21.,\n",
        "        22.,  23.,  24.,  25.,  26.,  27.,  28.,  29.,  30.,  31.,  32.,\n",
        "        33.,  34.,  35.,  36.,  37.,  38.,  39.,  40.,  41.,  42.,  43.,\n",
        "        44.,  45.,  46.,  47.,  48.,  49.,  50.,  51.,  52.,  53.,  54.,\n",
        "        55.,  56.,  57.,  58.,  59., -60., -59., -58., -57., -56., -55.,\n",
        "       -54., -53., -52., -51., -50., -49., -48., -47., -46., -45., -44.,\n",
        "       -43., -42., -41., -40., -39., -38., -37., -36., -35., -34., -33.,\n",
        "       -32., -31., -30., -29., -28., -27., -26., -25., -24., -23., -22.,\n",
        "       -21., -20., -19., -18., -17., -16., -15., -14., -13., -12., -11.,\n",
        "       -10.,  -9.,  -8.,  -7.,  -6.,  -5.,  -4.,  -3.,  -2.,  -1.])"
       ]
      }
     ],
     "prompt_number": 23
    },
    {
     "cell_type": "code",
     "collapsed": false,
     "input": [
      "k = (2*np.pi/L)*np.fft.fftfreq(n,1.0/n)\n",
      "print k\n",
      "print np.fft.fftshift(k)"
     ],
     "language": "python",
     "metadata": {},
     "outputs": [
      {
       "output_type": "stream",
       "stream": "stdout",
       "text": [
        "[  0.           0.31415927   0.62831853   0.9424778    1.25663706\n",
        "   1.57079633   1.88495559   2.19911486   2.51327412   2.82743339\n",
        "   3.14159265   3.45575192   3.76991118   4.08407045   4.39822972\n",
        "   4.71238898   5.02654825   5.34070751   5.65486678   5.96902604\n",
        "   6.28318531   6.59734457   6.91150384   7.2256631    7.53982237\n",
        "   7.85398163   8.1681409    8.48230016   8.79645943   9.1106187\n",
        "   9.42477796   9.73893723  10.05309649  10.36725576  10.68141502\n",
        "  10.99557429  11.30973355  11.62389282  11.93805208  12.25221135\n",
        "  12.56637061  12.88052988  13.19468915  13.50884841  13.82300768\n",
        "  14.13716694  14.45132621  14.76548547  15.07964474  15.393804\n",
        "  15.70796327  16.02212253  16.3362818   16.65044106  16.96460033\n",
        "  17.27875959  17.59291886  17.90707813  18.22123739  18.53539666\n",
        " -18.84955592 -18.53539666 -18.22123739 -17.90707813 -17.59291886\n",
        " -17.27875959 -16.96460033 -16.65044106 -16.3362818  -16.02212253\n",
        " -15.70796327 -15.393804   -15.07964474 -14.76548547 -14.45132621\n",
        " -14.13716694 -13.82300768 -13.50884841 -13.19468915 -12.88052988\n",
        " -12.56637061 -12.25221135 -11.93805208 -11.62389282 -11.30973355\n",
        " -10.99557429 -10.68141502 -10.36725576 -10.05309649  -9.73893723\n",
        "  -9.42477796  -9.1106187   -8.79645943  -8.48230016  -8.1681409\n",
        "  -7.85398163  -7.53982237  -7.2256631   -6.91150384  -6.59734457\n",
        "  -6.28318531  -5.96902604  -5.65486678  -5.34070751  -5.02654825\n",
        "  -4.71238898  -4.39822972  -4.08407045  -3.76991118  -3.45575192\n",
        "  -3.14159265  -2.82743339  -2.51327412  -2.19911486  -1.88495559\n",
        "  -1.57079633  -1.25663706  -0.9424778   -0.62831853  -0.31415927]\n",
        "[-18.84955592 -18.53539666 -18.22123739 -17.90707813 -17.59291886\n",
        " -17.27875959 -16.96460033 -16.65044106 -16.3362818  -16.02212253\n",
        " -15.70796327 -15.393804   -15.07964474 -14.76548547 -14.45132621\n",
        " -14.13716694 -13.82300768 -13.50884841 -13.19468915 -12.88052988\n",
        " -12.56637061 -12.25221135 -11.93805208 -11.62389282 -11.30973355\n",
        " -10.99557429 -10.68141502 -10.36725576 -10.05309649  -9.73893723\n",
        "  -9.42477796  -9.1106187   -8.79645943  -8.48230016  -8.1681409\n",
        "  -7.85398163  -7.53982237  -7.2256631   -6.91150384  -6.59734457\n",
        "  -6.28318531  -5.96902604  -5.65486678  -5.34070751  -5.02654825\n",
        "  -4.71238898  -4.39822972  -4.08407045  -3.76991118  -3.45575192\n",
        "  -3.14159265  -2.82743339  -2.51327412  -2.19911486  -1.88495559\n",
        "  -1.57079633  -1.25663706  -0.9424778   -0.62831853  -0.31415927   0.\n",
        "   0.31415927   0.62831853   0.9424778    1.25663706   1.57079633\n",
        "   1.88495559   2.19911486   2.51327412   2.82743339   3.14159265\n",
        "   3.45575192   3.76991118   4.08407045   4.39822972   4.71238898\n",
        "   5.02654825   5.34070751   5.65486678   5.96902604   6.28318531\n",
        "   6.59734457   6.91150384   7.2256631    7.53982237   7.85398163\n",
        "   8.1681409    8.48230016   8.79645943   9.1106187    9.42477796\n",
        "   9.73893723  10.05309649  10.36725576  10.68141502  10.99557429\n",
        "  11.30973355  11.62389282  11.93805208  12.25221135  12.56637061\n",
        "  12.88052988  13.19468915  13.50884841  13.82300768  14.13716694\n",
        "  14.45132621  14.76548547  15.07964474  15.393804    15.70796327\n",
        "  16.02212253  16.3362818   16.65044106  16.96460033  17.27875959\n",
        "  17.59291886  17.90707813  18.22123739  18.53539666]\n"
       ]
      }
     ],
     "prompt_number": 27
    },
    {
     "cell_type": "code",
     "collapsed": false,
     "input": [
      "pl.plot(np.fft.fftshift(k),np.abs(np.fft.fftshift(ut)))"
     ],
     "language": "python",
     "metadata": {},
     "outputs": [
      {
       "metadata": {},
       "output_type": "pyout",
       "prompt_number": 28,
       "text": [
        "[<matplotlib.lines.Line2D at 0x4c2a590>]"
       ]
      },
      {
       "metadata": {},
       "output_type": "display_data",
       "png": "[encoded data removed]",
       "text": [
        "<matplotlib.figure.Figure at 0x4943150>"
       ]
      }
     ],
     "prompt_number": 28
    },
    {
     "cell_type": "markdown",
     "metadata": {},
     "source": [
      "# Video: W01_L01_P04"
     ]
    },
    {
     "cell_type": "code",
     "collapsed": false,
     "input": [
      "u = 1/np.cosh(x)\n",
      "ud = -u*np.tanh(x)\n",
      "u2d = u - 2*u**3"
     ],
     "language": "python",
     "metadata": {},
     "outputs": [],
     "prompt_number": 42
    },
    {
     "cell_type": "code",
     "collapsed": false,
     "input": [
      "ut = np.fft.fft(u)\n",
      "uds = np.fft.ifft(1j*k*ut)\n",
      "u2ds = np.fft.ifft((1j*k)**2*ut)\n"
     ],
     "language": "python",
     "metadata": {},
     "outputs": [],
     "prompt_number": 48
    },
    {
     "cell_type": "code",
     "collapsed": false,
     "input": [
      "ks = np.fft.fftshift(k)\n"
     ],
     "language": "python",
     "metadata": {},
     "outputs": [],
     "prompt_number": 50
    },
    {
     "cell_type": "code",
     "collapsed": false,
     "input": [
      "pl.plot(x,ud,\"r\",x,uds,\"mo\")\n"
     ],
     "language": "python",
     "metadata": {},
     "outputs": [
      {
       "metadata": {},
       "output_type": "pyout",
       "prompt_number": 51,
       "text": [
        "[<matplotlib.lines.Line2D at 0x4946310>,\n",
        " <matplotlib.lines.Line2D at 0x49467d0>]"
       ]
      },
      {
       "metadata": {},
       "output_type": "display_data",
       "png": "[encoded data removed]",
       "text": [
        "<matplotlib.figure.Figure at 0x494a610>"
       ]
      }
     ],
     "prompt_number": 51
    },
    {
     "cell_type": "code",
     "collapsed": false,
     "input": [
      "L = 4\n",
      "n = 120\n",
      "x2 = np.linspace(-L/2,L/2,n+1)\n",
      "x = x2[:-1]\n",
      "\n",
      "k = (2*np.pi/L)*np.fft.fftfreq(n,1.0/n)\n",
      "\n",
      "u = 1/np.cosh(x)\n",
      "ud = -u*np.tanh(x)\n",
      "\n",
      "ut = np.fft.fft(u)\n",
      "uds = np.fft.ifft(1j*k*ut)\n",
      "\n",
      "pl.plot(x,ud,\"r\",x,uds,\"mo\")"
     ],
     "language": "python",
     "metadata": {},
     "outputs": [
      {
       "metadata": {},
       "output_type": "pyout",
       "prompt_number": 63,
       "text": [
        "[<matplotlib.lines.Line2D at 0x6771990>,\n",
        " <matplotlib.lines.Line2D at 0x6771e50>]"
       ]
      },
      {
       "metadata": {},
       "output_type": "display_data",
       "png": "[encoded data removed]",
       "text": [
        "<matplotlib.figure.Figure at 0x649f950>"
       ]
      }
     ],
     "prompt_number": 63
    },
    {
     "cell_type": "code",
     "collapsed": false,
     "input": [
      "help(PyConAPAC.call_for_proposal)"
     ],
     "language": "python",
     "metadata": {
      "slideshow": {
       "slide_type": "fragment"
      }
     },
     "outputs": [
      {
       "metadata": {},
       "output_type": "pyout",
       "prompt_number": 3,
       "html": [
        "<pre>PyCon APAC 2014 Call for Proposal !!\n",
        "\n",
        "    PyCon APAC 2014 is now accepting all types of proposals.\n",
        "    In addition to regular and lightning talks, you can also \n",
        "    submit proposals for tutorials and for SciPy Track.\n",
        "    Please refer to the detail page below:</pre>",
        "<p style=\"text-indent:4;font-family:monospace\">&nbsp&nbsp&nbsp&nbsp<a href=\"http://tw.pycon.org/2014apac/en/call-for-proposals/\">http://tw.pycon.org/2014apac/en/call-for-proposals/</a></p>"
       ]
      }
     ],
     "prompt_number": 3
    }
   ],
   "metadata": {}
  }
 ]
}
