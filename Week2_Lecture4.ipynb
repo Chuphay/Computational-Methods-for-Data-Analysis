{
 "metadata": {
  "name": ""
 },
 "nbformat": 3,
 "nbformat_minor": 0,
 "worksheets": [
  {
   "cells": [
    {
     "cell_type": "code",
     "collapsed": false,
     "input": [
      "%matplotlib inline"
     ],
     "language": "python",
     "metadata": {},
     "outputs": [],
     "prompt_number": 1
    },
    {
     "cell_type": "markdown",
     "metadata": {},
     "source": [
      "# Video: W02_L04_P01"
     ]
    },
    {
     "cell_type": "markdown",
     "metadata": {},
     "source": [
      "# Video: W02_L04_P02"
     ]
    },
    {
     "cell_type": "markdown",
     "metadata": {},
     "source": [
      "# Gabor Transform\n",
      "\n",
      "- ## Fourier Transform: $$ F(\\omega) = \\int_{-\\infty}^{\\infty} f(t) e^{i\\omega t}dt$$\n",
      "\n",
      "- ## STFT => Gabor : $$ G_g[f](t,\\omega) = \\widetilde{f}_g (t,\\omega) = \\int_{-\\infty}^{\\infty} f(\\tau)g(\\tau-t) e^{i\\omega \\tau}d\\tau$$\n"
     ]
    },
    {
     "cell_type": "markdown",
     "metadata": {},
     "source": [
      "## Window Fourier Transform is just like ... Music Sheets ...\n",
      "\n",
      "![](http://www.pianomother.com/assets/images/FreeSheetMusic/Canon-in-d-sheet-music.jpg)\n",
      "\n",
      "## It include the frequency information (chord) ) at each time slice (bar) ...\n",
      "\n",
      "- http://www.youtube.com/watch?v=LL_WI12QH_0\n",
      "- http://en.wikipedia.org/wiki/Chord_(music)\n",
      "- http://en.wikipedia.org/wiki/Bar_(music)\n"
     ]
    },
    {
     "cell_type": "code",
     "collapsed": false,
     "input": [
      "from IPython.display import YouTubeVideo\n",
      "YouTubeVideo(\"LL_WI12QH_0\")"
     ],
     "language": "python",
     "metadata": {},
     "outputs": [
      {
       "html": [
        "\n",
        "        <iframe\n",
        "            width=\"400\"\n",
        "            height=300\"\n",
        "            src=\"http://www.youtube.com/embed/LL_WI12QH_0\"\n",
        "            frameborder=\"0\"\n",
        "            allowfullscreen\n",
        "        ></iframe>\n",
        "        "
       ],
       "metadata": {},
       "output_type": "pyout",
       "prompt_number": 1,
       "text": [
        "<IPython.lib.display.YouTubeVideo at 0x17d3e90>"
       ]
      }
     ],
     "prompt_number": 1
    },
    {
     "cell_type": "markdown",
     "metadata": {},
     "source": [
      "# Gabor Transform: $$ G_g[f](t,\\omega) = \\widetilde{f}_g (t,\\omega) = \\int_{-\\infty}^{\\infty} f(\\tau)g(\\tau-t) e^{i\\omega \\tau}d\\tau$$\n",
      "\n",
      "- ## When $g(x) = 1$ Gabor Transform will go back to the Fourier Transform !\n",
      "\n",
      "- ## Fourier Transform: $$ F(\\omega) = \\int_{-\\infty}^{\\infty} f(t) e^{i\\omega t}dt$$\n"
     ]
    },
    {
     "cell_type": "markdown",
     "metadata": {},
     "source": [
      "# Video: W02_L04_P03"
     ]
    },
    {
     "cell_type": "markdown",
     "metadata": {},
     "source": [
      "# Gabor Transform: $$ G_g[f](t,\\omega) = \\widetilde{f}_g (t,\\omega) = \\int_{-\\infty}^{\\infty} f(\\tau)g(\\tau-t) e^{i\\omega \\tau}d\\tau$$\n",
      "\n",
      "- ## Using $g(x)$ to make signals localized !\n",
      "\n",
      "- ## Energy at $(t,\\omega)$ equals : $$|\\widetilde{f}_g (t,\\omega) |^2$$\n",
      "\n",
      "- ## Energy Bounded : $$|\\widetilde{f}_g (t,\\omega) | \\leq \\|f\\| \\| g\\|$$\n",
      "\n",
      "- ## Heisenberg : \n",
      "    * ## Variance of $t$ : $$ \\sigma_t^2 = \\int_{-\\infty}^{\\infty} (\\tau-t)^2 |g(\\tau)| d\\tau $$\n",
      "    * ## Variance of $\\omega$ : $$ \\sigma_\\omega^2 = \\frac{1}{2\\pi}\\int_{-\\infty}^{\\infty} (\\nu-\\omega)^2 |g(\\nu)| d\\nu $$\n",
      "    * ## Uncertainty principle: $$ \\sigma_t \\sigma_\\omega \\geq C_0$$\n",
      "\n",
      "- ## Linear: $$ G[a_1f_1 + a_2f_2] = a_1 G[f_1] + a_2G[f_2] $$\n",
      "\n",
      "- ## Inverse Transform: $$ f(\\tau) = \\frac{1}{2\\pi}\\frac{1}{\\|g\\|^2} \\int_{-\\infty}^{\\infty} \\int  \\widetilde{f}_g (t,\\omega) g(\\tau -t) e^{i\\omega\\tau} d\\omega dt $$"
     ]
    },
    {
     "cell_type": "markdown",
     "metadata": {},
     "source": [
      "# Video: W02_L04_P04"
     ]
    },
    {
     "cell_type": "markdown",
     "metadata": {},
     "source": [
      "## Trade-off Time Resolution and Frequency Resolution:\n",
      "\n",
      "![](Lecture4_pic1.png)\n",
      "\n",
      "## Small Window can only capture high frequency information ... :\n",
      "\n",
      "![](Lecture4_pic2.png)\n"
     ]
    },
    {
     "cell_type": "markdown",
     "metadata": {},
     "source": [
      "# Video: W02_L04_P05"
     ]
    },
    {
     "cell_type": "markdown",
     "metadata": {},
     "source": [
      "\n",
      "# Some Transforms:\n",
      "\n",
      "- ## Zak Transform: $$L_a [f] (t,\\omega) = \\sqrt{a} \\sum_{n=-\\infty}^{\\infty} f(at + an) e^{i 2\\pi n \\omega} $$\n",
      "    * http://www.encyclopediaofmath.org/index.php/Zak_transform\n",
      "    * http://www.sps.ele.tue.nl/members/m.j.bastiaans/pdfs/neaman.pdf\n",
      "\n",
      "- ## Wigner-Ville Transform: $$W_{f,g}(t,\\omega) = \\int_{-\\infty}^{\\infty} f(t + \\frac{\\tau}{2}) \\bar{g}(t - \\frac{\\tau}{2}) e^{ - i \\omega \\tau } d\\tau $$\n"
     ]
    },
    {
     "cell_type": "code",
     "collapsed": false,
     "input": [],
     "language": "python",
     "metadata": {},
     "outputs": []
    }
   ],
   "metadata": {}
  }
 ]
}