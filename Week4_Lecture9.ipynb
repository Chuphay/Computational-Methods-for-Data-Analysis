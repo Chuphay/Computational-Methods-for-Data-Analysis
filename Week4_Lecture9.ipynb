{
 "metadata": {
  "name": ""
 },
 "nbformat": 3,
 "nbformat_minor": 0,
 "worksheets": [
  {
   "cells": [
    {
     "cell_type": "code",
     "collapsed": false,
     "input": [
      "%matplotlib inline"
     ],
     "language": "python",
     "metadata": {},
     "outputs": [],
     "prompt_number": 1
    },
    {
     "cell_type": "code",
     "collapsed": false,
     "input": [
      "import matplotlib.pylab as pylab\n",
      "pylab.rcParams['figure.figsize'] = 16, 12"
     ],
     "language": "python",
     "metadata": {},
     "outputs": [],
     "prompt_number": 2
    },
    {
     "cell_type": "markdown",
     "metadata": {},
     "source": [
      "# Video: W04_L09_P01"
     ]
    },
    {
     "cell_type": "markdown",
     "metadata": {},
     "source": [
      "# Image Processing\n",
      "\n",
      "-    ## Ultrasound (1M Hz ~ 20M Hz)\n",
      "-    ## Infrared / Thermal Imaging \n",
      "    *    ### Predator \n",
      "-    ## Tomography (Cats scans)\n",
      "-    ## MRI \n",
      "-    ## Radar / Sonar\n",
      "-    ## Digital Photos\n",
      "    *    ### Remove Red-Eye\n",
      "\n",
      "-    ## Computer Graphics\n",
      "    \n"
     ]
    },
    {
     "cell_type": "markdown",
     "metadata": {},
     "source": [
      "# Image Processing\n",
      "\n",
      "-    ## Contrast Enhancement\n",
      "-    ## Denoising\n",
      "-    ## Deblurring (take away handshake from the camera)\n",
      "-    ## Inpainting (complete the missing data)\n",
      "-    ## Segmentation (Edge Detection)\n",
      "\n",
      "\n",
      "-    ## Infrared / Thermal Imaging \n",
      "    *    ### Predator \n",
      "-    ## Tomography (Cats scans)\n",
      "-    ## MRI \n",
      "-    ## Radar / Sonar\n",
      "-    ## Digital Photos\n",
      "    *    ### Remove Red-Eye\n",
      "\n",
      "-    ## Computer Graphics\n",
      "    \n"
     ]
    }
   ],
   "metadata": {}
  }
 ]
}