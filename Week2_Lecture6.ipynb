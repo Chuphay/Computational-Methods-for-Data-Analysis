{
 "metadata": {
  "name": ""
 },
 "nbformat": 3,
 "nbformat_minor": 0,
 "worksheets": [
  {
   "cells": [
    {
     "cell_type": "code",
     "collapsed": false,
     "input": [
      "%matplotlib inline"
     ],
     "language": "python",
     "metadata": {},
     "outputs": [],
     "prompt_number": 1
    },
    {
     "cell_type": "markdown",
     "metadata": {},
     "source": [
      "# Video: W02_L06_P01"
     ]
    },
    {
     "cell_type": "markdown",
     "metadata": {},
     "source": [
      "# Wavelet Building Blocks:\n",
      "\n",
      "-   ## for mother wavelet $\\psi \\in L^2$, we could define the Wavelet Building Blocks with ...\n",
      "    *    ### dialation : $m$ \n",
      "    *    ### translation : $n$ \n",
      "\n",
      "-   ## Wavelet Building Blocks: $$\\psi_{m,n} = 2^{\\frac{m}{2}}\\psi\\left(2^m (x - \\frac{n}{2^m})\\right) = 2^{\\frac{m}{2}}\\psi\\left(2^m x - n \\right) $$\n",
      "    *    ### $m$ is scaling "
     ]
    },
    {
     "cell_type": "code",
     "collapsed": false,
     "input": [
      "import numpy as np\n",
      "import matplotlib.pyplot as plt\n"
     ],
     "language": "python",
     "metadata": {},
     "outputs": [],
     "prompt_number": 13
    },
    {
     "cell_type": "code",
     "collapsed": false,
     "input": [
      "mex_hat_fn = lambda x:(1-x**2)*np.exp(-x**2 /2)\n",
      "mex_hat_vec_fn = np.vectorize(mex_hat_fn)\n",
      "mex_hat_fn_gen = lambda a,b: lambda x: mex_hat_fn((x-b)/a)/(a**0.5)"
     ],
     "language": "python",
     "metadata": {},
     "outputs": [],
     "prompt_number": 14
    },
    {
     "cell_type": "code",
     "collapsed": false,
     "input": [
      "mex_hat_4_0 = mex_hat_fn_gen(4,0)\n",
      "mex_hat_4_0_vec = np.vectorize(mex_hat_4_0)\n",
      "\n",
      "mex_hat_1o4_0 = mex_hat_fn_gen(1.0/4,0)\n",
      "mex_hat_1o4_vec = np.vectorize(mex_hat_1o4_0)\n",
      "\n",
      "x_start = -5\n",
      "x_end = 5\n",
      "x_N = 301\n",
      "x_vec = np.linspace(x_start,x_end,x_N)\n",
      "\n",
      "plt.plot(x_vec, mex_hat_vec_fn(x_vec),\"k\",\n",
      "         x_vec, mex_hat_4_0_vec(x_vec),\"b\",\n",
      "         x_vec, mex_hat_1o4_vec(x_vec),\"g\")\n",
      "plt.ylim(-1.25, 2.25)\n",
      "plt.xlim(x_start, x_end)\n"
     ],
     "language": "python",
     "metadata": {},
     "outputs": [
      {
       "metadata": {},
       "output_type": "pyout",
       "prompt_number": 15,
       "text": [
        "(-5, 5)"
       ]
      },
      {
       "metadata": {},
       "output_type": "display_data",
       "png": "[encoded data removed]",
       "text": [
        "<matplotlib.figure.Figure at 0x44fd850>"
       ]
      }
     ],
     "prompt_number": 15
    },
    {
     "cell_type": "markdown",
     "metadata": {},
     "source": [
      "# Question1: Can functions be represeted by cosine and sine functions uniquenessly ?"
     ]
    },
    {
     "cell_type": "markdown",
     "metadata": {},
     "source": [
      "# Ans1: Yes, Four"
     ]
    },
    {
     "cell_type": "markdown",
     "metadata": {},
     "source": [
      "# Question2: Can functions be represeted by wavelet basis uniquenessly ?"
     ]
    },
    {
     "cell_type": "markdown",
     "metadata": {},
     "source": [
      "# The orthogonality of wavelets: $$(\\psi_{m,n},\\psi_{k,l}) = \\int_{-\\infty}^{\\infty} \\psi_{m,n}(x)\\psi_{k,l}(x) dx = \\delta_{m,k} \\delta_{n,l}$$\n",
      "\n"
     ]
    },
    {
     "cell_type": "markdown",
     "metadata": {},
     "source": []
    },
    {
     "cell_type": "code",
     "collapsed": false,
     "input": [],
     "language": "python",
     "metadata": {},
     "outputs": []
    },
    {
     "cell_type": "code",
     "collapsed": false,
     "input": [],
     "language": "python",
     "metadata": {},
     "outputs": []
    },
    {
     "cell_type": "code",
     "collapsed": false,
     "input": [],
     "language": "python",
     "metadata": {},
     "outputs": []
    }
   ],
   "metadata": {}
  }
 ]
}