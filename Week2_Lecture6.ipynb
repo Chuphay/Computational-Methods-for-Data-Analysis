{
 "metadata": {
  "name": ""
 },
 "nbformat": 3,
 "nbformat_minor": 0,
 "worksheets": [
  {
   "cells": [
    {
     "cell_type": "code",
     "collapsed": false,
     "input": [
      "%matplotlib inline"
     ],
     "language": "python",
     "metadata": {},
     "outputs": [],
     "prompt_number": 1
    },
    {
     "cell_type": "markdown",
     "metadata": {},
     "source": [
      "# Video: W02_L06_P01"
     ]
    },
    {
     "cell_type": "markdown",
     "metadata": {},
     "source": [
      "# Wavelet Building Blocks:\n",
      "\n",
      "-   ## for mother wavelet $\\psi \\in L^2$, we could define the Wavelet Building Blocks with ...\n",
      "    *    ### dialation : $m$ \n",
      "    *    ### translation : $n$ \n",
      "\n",
      "-   ## Wavelet Building Blocks: $$\\psi_{m,n} = 2^{\\frac{m}{2}}\\psi\\left(2^m (x - \\frac{n}{2^m})\\right) = 2^{\\frac{m}{2}}\\psi\\left(2^m x - n \\right) $$\n",
      "    *    ### $m$ is scaling "
     ]
    },
    {
     "cell_type": "code",
     "collapsed": false,
     "input": [
      "import numpy as np\n",
      "import matplotlib.pyplot as plt\n"
     ],
     "language": "python",
     "metadata": {},
     "outputs": [],
     "prompt_number": 2
    },
    {
     "cell_type": "code",
     "collapsed": false,
     "input": [
      "mex_hat_fn = lambda x:(1-x**2)*np.exp(-x**2 /2)\n",
      "mex_hat_vec_fn = np.vectorize(mex_hat_fn)\n",
      "mex_hat_fn_gen = lambda a,b: lambda x: mex_hat_fn((x-b)/a)/(a**0.5)"
     ],
     "language": "python",
     "metadata": {},
     "outputs": [],
     "prompt_number": 3
    },
    {
     "cell_type": "code",
     "collapsed": false,
     "input": [
      "mex_hat_4_0 = mex_hat_fn_gen(4,0)\n",
      "mex_hat_4_0_vec = np.vectorize(mex_hat_4_0)\n",
      "\n",
      "mex_hat_1o4_0 = mex_hat_fn_gen(1.0/4,0)\n",
      "mex_hat_1o4_vec = np.vectorize(mex_hat_1o4_0)\n",
      "\n",
      "x_start = -5\n",
      "x_end = 5\n",
      "x_N = 301\n",
      "x_vec = np.linspace(x_start,x_end,x_N)\n",
      "\n",
      "plt.plot(x_vec, mex_hat_vec_fn(x_vec),\"k\",\n",
      "         x_vec, mex_hat_4_0_vec(x_vec),\"b\",\n",
      "         x_vec, mex_hat_1o4_vec(x_vec),\"g\")\n",
      "plt.ylim(-1.25, 2.25)\n",
      "plt.xlim(x_start, x_end)\n"
     ],
     "language": "python",
     "metadata": {},
     "outputs": [
      {
       "metadata": {},
       "output_type": "pyout",
       "prompt_number": 4,
       "text": [
        "(-5, 5)"
       ]
      },
      {
       "output_type": "stream",
       "stream": "stderr",
       "text": [
        "/usr/lib/pymodules/python2.7/matplotlib/font_manager.py:1218: UserWarning: findfont: Font family ['monospace'] not found. Falling back to Bitstream Vera Sans\n",
        "  (prop.get_family(), self.defaultFamily[fontext]))\n"
       ]
      },
      {
       "metadata": {},
       "output_type": "display_data",
       "png": "[encoded data removed]",
       "text": [
        "<matplotlib.figure.Figure at 0x36dddd0>"
       ]
      }
     ],
     "prompt_number": 4
    },
    {
     "cell_type": "markdown",
     "metadata": {},
     "source": [
      "# Question1: Can functions be represeted by cosine and sine functions uniquenessly ?"
     ]
    },
    {
     "cell_type": "markdown",
     "metadata": {},
     "source": [
      "## Ans1: Yes, Fourier Series use orthogonal basis ... "
     ]
    },
    {
     "cell_type": "markdown",
     "metadata": {},
     "source": [
      "# Question2: Can functions be represeted by wavelet basis uniquenessly ?"
     ]
    },
    {
     "cell_type": "markdown",
     "metadata": {},
     "source": [
      "# The orthogonality of wavelets: $$(\\psi_{m,n},\\psi_{k,l}) = \\int_{-\\infty}^{\\infty} \\psi_{m,n}(x)\\psi_{k,l}(x) dx = \\delta_{m,k} \\delta_{n,l}$$\n",
      "\n"
     ]
    },
    {
     "cell_type": "markdown",
     "metadata": {},
     "source": [
      "# Video: W02_L06_P02"
     ]
    },
    {
     "cell_type": "markdown",
     "metadata": {},
     "source": [
      "## Fourier Analysis: (cosine transform) $$f(x) = \\sum_0^{\\infty} a_n cos\\left(\\frac{n\\pi x}{L}\\right)$$\n",
      "\n",
      "### Represent some givien function f with cosine basis ..."
     ]
    },
    {
     "cell_type": "markdown",
     "metadata": {},
     "source": [
      "## Using Functioal Inner Product $$ (f, cos\\left(\\frac{m\\pi x}{L}\\right) ) = \\sum_0^{\\infty} a_n (cos\\left(\\frac{n\\pi x}{L}\\right),cos\\left(\\frac{m\\pi x}{L}\\right) )$$"
     ]
    },
    {
     "cell_type": "markdown",
     "metadata": {},
     "source": [
      "## Coefficients : $$ a_n = \\frac{1}{L} \\int_{0}^{L} f(x) cos\\left(\\frac{n\\pi x}{L}\\right) dx$$"
     ]
    },
    {
     "cell_type": "markdown",
     "metadata": {},
     "source": [
      "# EigenFunction Expansion: \n",
      "\n",
      "-    ## Linear Problem: $ Lu = f $\n",
      "-    ## Eigenvalue Problem: $ L u_n = \\lambda_n u_n $\n",
      "-    ## EigenFunction Expansion of Solution: $ u = \\sum_{n=0}^{\\infty} a_n u_n $\n",
      "-    ## [Question] How to solve $a_n$ ?\n",
      "-    ## Put Expansion into original equation: $$ L (\\sum_{n} a_n u_n ) = \\sum_{n} a_n \\lambda_n u_n  = f$$\n",
      "-    ## IF $\\{u_k\\}_{k=0}^{\\infty}$ are orthonomal basis: $ (u_k,u_m) = \\delta_{k,m}$\n",
      "-    ## Computing coefficients by taking inner product both sides: $$ a_k \\lambda_k = \\sum_{n} a_n \\lambda_n (u_k,u_n)  = (f,u_k)$$\n",
      "\n",
      "-    ## Coefficients: $$ a_k = \\frac{(f,u_k)}{\\lambda_k}$$\n",
      "\n",
      "-    ## Solution: $$u = \\sum_{k=0}^{\\infty} \\frac{(f,u_k)}{\\lambda_k} u_k $$\n"
     ]
    },
    {
     "cell_type": "markdown",
     "metadata": {},
     "source": [
      "# Video: W02_L06_P03 & W02_L06_P04"
     ]
    },
    {
     "cell_type": "markdown",
     "metadata": {},
     "source": [
      "# Wavelet Basis Expansion: $$f(t) = \\sum_{m,n = -\\infty}^{\\infty} c_{m,n} \\psi_{m,n}(t)$$\n",
      "\n",
      "## The Coefficients: $$c_{m,n} = (f,\\psi_{m,n})$$"
     ]
    },
    {
     "cell_type": "markdown",
     "metadata": {},
     "source": [
      "# Multi-Resolution Analysis (MRA): \n",
      "\n",
      "-    ## Series of Embedded Subspaces: $ \\{V_m | m \\in \\mathbb{Z} \\}$\n",
      "-    ## [Property 1] $$ \\ldots \\subset V_{-2} \\subset V_{-1} \\subset V_{0} \\subset V_{1} \\subset V_{2} \\subset \\ldots $$\n",
      "    *    ## At the LHS of this Series : Course Resolution (bigger features / low frequency) \n",
      "    *    ## At the RHS of this Series : Fine Resolution (smaller features / high frequency)\n",
      "\n",
      "-    ## [Property 2] $$\\bigcup_{m=-\\infty}^{\\infty} V_m$$ is dense in $L^2$ \n",
      "\n",
      "-    ## [Property 3] $$\\bigcap_{m=-\\infty}^{\\infty} V_m = \\{ \\vec{0}\\}$$\n",
      "\n",
      "-    ## [Property 4] $f(x) \\in V_m$ if and only if $f(2x) \\in V_{m+1}$\n"
     ]
    },
    {
     "cell_type": "markdown",
     "metadata": {},
     "source": [
      "# Resolution of Combs and Knots ......\n",
      "![](comb.jpg)\n",
      "![](comb2.jpg)\n"
     ]
    },
    {
     "cell_type": "markdown",
     "metadata": {},
     "source": [
      "-    ## [Property 5] for $\\phi \\in V_0$ and $\\phi_{0,n} = \\phi(x-n)$, such that $$\\|f\\|^2 = \\int_{-\\infty}^{\\infty}|f(x)|^2dx  =  \\sum_n |(f,\\phi_{0,n})|^2$$ This is called the \"scaling function\" or the \"father wavelet\" !\n"
     ]
    },
    {
     "cell_type": "markdown",
     "metadata": {},
     "source": [
      "-    ## [Remark] $V_0 \\subset V_1$ so that $$\\phi(x) = \\sum_{n=-\\infty}^{\\infty}c_n \\phi_{1,n}(x) = \\sqrt{2} \\sum_{n=-\\infty}^{\\infty}c_n \\phi(2x-n)$$ This is refinement equation !\n"
     ]
    },
    {
     "cell_type": "code",
     "collapsed": false,
     "input": [],
     "language": "python",
     "metadata": {},
     "outputs": []
    },
    {
     "cell_type": "markdown",
     "metadata": {},
     "source": [
      "# Reference:\n",
      "\n",
      "-    ## [Change matplotlib theme] http://www.huyng.com/posts/sane-color-scheme-for-matplotlib/"
     ]
    }
   ],
   "metadata": {}
  }
 ]
}