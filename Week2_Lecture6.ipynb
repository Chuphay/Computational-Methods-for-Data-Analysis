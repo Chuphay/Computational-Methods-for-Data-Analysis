{
 "metadata": {
  "name": ""
 },
 "nbformat": 3,
 "nbformat_minor": 0,
 "worksheets": [
  {
   "cells": [
    {
     "cell_type": "code",
     "collapsed": false,
     "input": [
      "%matplotlib inline"
     ],
     "language": "python",
     "metadata": {},
     "outputs": [],
     "prompt_number": 5
    },
    {
     "cell_type": "markdown",
     "metadata": {},
     "source": [
      "# Video: W02_L06_P01"
     ]
    },
    {
     "cell_type": "markdown",
     "metadata": {},
     "source": [
      "# Wavelet Building Blocks:\n",
      "\n",
      "-   ## for mother wavelet $\\psi \\in L^2$, we could define the Wavelet Building Blocks with ...\n",
      "    *    ### dialation : $m$ \n",
      "    *    ### translation : $n$ \n",
      "\n",
      "-   ## Wavelet Building Blocks: $$\\psi_{m,n} = 2^{\\frac{m}{2}}\\psi\\left(2^m (x - \\frac{n}{2^m})\\right) = 2^{\\frac{m}{2}}\\psi\\left(2^m x - n \\right) $$\n",
      "    *    ### $m$ is scaling "
     ]
    },
    {
     "cell_type": "code",
     "collapsed": false,
     "input": [
      "import numpy as np\n",
      "import matplotlib.pyplot as plt\n"
     ],
     "language": "python",
     "metadata": {},
     "outputs": [],
     "prompt_number": 2
    },
    {
     "cell_type": "code",
     "collapsed": false,
     "input": [
      "mex_hat_fn = lambda x:(1-x**2)*np.exp(-x**2 /2)\n",
      "mex_hat_vec_fn = np.vectorize(mex_hat_fn)\n",
      "mex_hat_fn_gen = lambda a,b: lambda x: mex_hat_fn((x-b)/a)/(a**0.5)"
     ],
     "language": "python",
     "metadata": {},
     "outputs": [],
     "prompt_number": 3
    },
    {
     "cell_type": "code",
     "collapsed": false,
     "input": [
      "mex_hat_4_0 = mex_hat_fn_gen(4,0)\n",
      "mex_hat_4_0_vec = np.vectorize(mex_hat_4_0)\n",
      "\n",
      "mex_hat_1o4_0 = mex_hat_fn_gen(1.0/4,0)\n",
      "mex_hat_1o4_vec = np.vectorize(mex_hat_1o4_0)\n",
      "\n",
      "x_start = -5\n",
      "x_end = 5\n",
      "x_N = 301\n",
      "x_vec = np.linspace(x_start,x_end,x_N)\n",
      "\n",
      "plt.plot(x_vec, mex_hat_vec_fn(x_vec),\"k\",\n",
      "         x_vec, mex_hat_4_0_vec(x_vec),\"b\",\n",
      "         x_vec, mex_hat_1o4_vec(x_vec),\"g\")\n",
      "plt.ylim(-1.25, 2.25)\n",
      "plt.xlim(x_start, x_end)\n"
     ],
     "language": "python",
     "metadata": {},
     "outputs": [
      {
       "metadata": {},
       "output_type": "pyout",
       "prompt_number": 4,
       "text": [
        "(-5, 5)"
       ]
      },
      {
       "output_type": "stream",
       "stream": "stderr",
       "text": [
        "/usr/lib/pymodules/python2.7/matplotlib/font_manager.py:1218: UserWarning: findfont: Font family ['monospace'] not found. Falling back to Bitstream Vera Sans\n",
        "  (prop.get_family(), self.defaultFamily[fontext]))\n"
       ]
      },
      {
       "metadata": {},
       "output_type": "display_data",
       "png": "[encoded data removed]",
       "text": [
        "<matplotlib.figure.Figure at 0x36dddd0>"
       ]
      }
     ],
     "prompt_number": 4
    },
    {
     "cell_type": "markdown",
     "metadata": {},
     "source": [
      "# Question1: Can functions be represeted by cosine and sine functions uniquenessly ?"
     ]
    },
    {
     "cell_type": "markdown",
     "metadata": {},
     "source": [
      "## Ans1: Yes, Fourier Series use orthogonal basis ... "
     ]
    },
    {
     "cell_type": "markdown",
     "metadata": {},
     "source": [
      "# Question2: Can functions be represeted by wavelet basis uniquenessly ?"
     ]
    },
    {
     "cell_type": "markdown",
     "metadata": {},
     "source": [
      "# The orthogonality of wavelets: $$(\\psi_{m,n},\\psi_{k,l}) = \\int_{-\\infty}^{\\infty} \\psi_{m,n}(x)\\psi_{k,l}(x) dx = \\delta_{m,k} \\delta_{n,l}$$\n",
      "\n"
     ]
    },
    {
     "cell_type": "markdown",
     "metadata": {},
     "source": [
      "# Video: W02_L06_P02"
     ]
    },
    {
     "cell_type": "markdown",
     "metadata": {},
     "source": [
      "## Fourier Analysis: (cosine transform) $$f(x) = \\sum_0^{\\infty} a_n cos\\left(\\frac{n\\pi x}{L}\\right)$$\n",
      "\n",
      "### Represent some givien function f with cosine basis ..."
     ]
    },
    {
     "cell_type": "markdown",
     "metadata": {},
     "source": [
      "## Using Functioal Inner Product $$ (f, cos\\left(\\frac{m\\pi x}{L}\\right) ) = \\sum_0^{\\infty} a_n (cos\\left(\\frac{n\\pi x}{L}\\right),cos\\left(\\frac{m\\pi x}{L}\\right) )$$"
     ]
    },
    {
     "cell_type": "markdown",
     "metadata": {},
     "source": [
      "## Coefficients : $$ a_n = \\frac{1}{L} \\int_{0}^{L} f(x) cos\\left(\\frac{n\\pi x}{L}\\right) dx$$"
     ]
    },
    {
     "cell_type": "markdown",
     "metadata": {},
     "source": [
      "# EigenFunction Expansion: \n",
      "\n",
      "-    ## Linear Problem: $ Lu = f $\n",
      "-    ## Eigenvalue Problem: $ L u_n = \\lambda_n u_n $\n",
      "-    ## EigenFunction Expansion of Solution: $ u = \\sum_{n=0}^{\\infty} a_n u_n $\n",
      "-    ## [Question] How to solve $a_n$ ?\n",
      "-    ## Put Expansion into original equation: $$ L (\\sum_{n} a_n u_n ) = \\sum_{n} a_n \\lambda_n u_n  = f$$\n",
      "-    ## IF $\\{u_k\\}_{k=0}^{\\infty}$ are orthonomal basis: $ (u_k,u_m) = \\delta_{k,m}$\n",
      "-    ## Computing coefficients by taking inner product both sides: $$ a_k \\lambda_k = \\sum_{n} a_n \\lambda_n (u_k,u_n)  = (f,u_k)$$\n",
      "\n",
      "-    ## Coefficients: $$ a_k = \\frac{(f,u_k)}{\\lambda_k}$$\n",
      "\n",
      "-    ## Solution: $$u = \\sum_{k=0}^{\\infty} \\frac{(f,u_k)}{\\lambda_k} u_k $$\n"
     ]
    },
    {
     "cell_type": "markdown",
     "metadata": {},
     "source": [
      "# Video: W02_L06_P03 & W02_L06_P04"
     ]
    },
    {
     "cell_type": "markdown",
     "metadata": {},
     "source": [
      "# Wavelet Basis Expansion: $$f(t) = \\sum_{m,n = -\\infty}^{\\infty} c_{m,n} \\psi_{m,n}(t)$$\n",
      "\n",
      "## The Coefficients: $$c_{m,n} = (f,\\psi_{m,n})$$"
     ]
    },
    {
     "cell_type": "markdown",
     "metadata": {},
     "source": [
      "# Multi-Resolution Analysis (MRA): \n",
      "\n",
      "-    ## Series of Embedded Subspaces: $ \\{V_m | m \\in \\mathbb{Z} \\}$\n",
      "-    ## [Property 1] $$ \\ldots \\subset V_{-2} \\subset V_{-1} \\subset V_{0} \\subset V_{1} \\subset V_{2} \\subset \\ldots $$\n",
      "    *    ## At the LHS of this Series : Course Resolution (bigger features / low frequency) \n",
      "    *    ## At the RHS of this Series : Fine Resolution (smaller features / high frequency)\n",
      "\n",
      "-    ## [Property 2] $$\\bigcup_{m=-\\infty}^{\\infty} V_m$$ is dense in $L^2$ \n",
      "\n",
      "-    ## [Property 3] $$\\bigcap_{m=-\\infty}^{\\infty} V_m = \\{ \\vec{0}\\}$$\n",
      "\n",
      "-    ## [Property 4] $f(x) \\in V_m$ if and only if $f(2x) \\in V_{m+1}$\n"
     ]
    },
    {
     "cell_type": "markdown",
     "metadata": {},
     "source": [
      "# Resolution of Combs and Knots ......\n",
      "![](comb.jpg)\n",
      "![](comb2.jpg)\n"
     ]
    },
    {
     "cell_type": "markdown",
     "metadata": {},
     "source": [
      "-    ## [Property 5] for $\\phi \\in V_0$ and $\\phi_{0,n} = \\phi(x-n)$, such that $$\\|f\\|^2 = \\int_{-\\infty}^{\\infty}|f(x)|^2dx  =  \\sum_n |(f,\\phi_{0,n})|^2$$ This is called the \"scaling function\" or the \"father wavelet\" !\n"
     ]
    },
    {
     "cell_type": "markdown",
     "metadata": {},
     "source": [
      "-    ## [Remark] $V_0 \\subset V_1$ so that $$\\phi(x) = \\sum_{n=-\\infty}^{\\infty}c_n \\phi_{1,n}(x) = \\sqrt{2} \\sum_{n=-\\infty}^{\\infty}c_n \\phi(2x-n)$$ This is refinement equation !\n"
     ]
    },
    {
     "cell_type": "code",
     "collapsed": false,
     "input": [],
     "language": "python",
     "metadata": {},
     "outputs": []
    },
    {
     "cell_type": "markdown",
     "metadata": {},
     "source": [
      "# Reference:\n",
      "\n",
      "-    ## [Change matplotlib theme] http://www.huyng.com/posts/sane-color-scheme-for-matplotlib/"
     ]
    },
    {
     "cell_type": "markdown",
     "metadata": {},
     "source": [
      "# Conference:"
     ]
    },
    {
     "cell_type": "code",
     "collapsed": false,
     "input": [
      "from everything import __future__ as PyConAPAC"
     ],
     "language": "python",
     "metadata": {},
     "outputs": [
      {
       "html": [
        "<a href=\"http://tw.pycon.org/2014apac/en/\" target=\"_blank\" class=\"svg\"><svg enable-background=\"new 4784.332 2788.145 461.619 152.118\" height=\"152.118px\" id=\"Layer_1\" version=\"1.1\" viewBox=\"4784.332 2788.145 461.619 152.118\" width=\"461.619px\" x=\"0px\" xml:space=\"preserve\" xmlns=\"http://www.w3.org/2000/svg\" xmlns:xlink=\"http://www.w3.org/1999/xlink\" y=\"0px\">\n",
        "<g>\n",
        "\t<path d=\"M4826.781,2936.36l-6.527-25.453l3.43-8.292c0.43-1.207,0.076-2.661-0.799-3.284l-15.896-11.305   c-0.303-0.215-0.639-0.303-0.97-0.272l-0.156-0.001l-0.157,0.001c-0.331-0.03-0.666,0.057-0.969,0.272l-15.896,11.305   c-0.876,0.623-1.229,2.077-0.799,3.284l3.43,8.292l-6.526,25.453c-0.11,0.732,0.029,1.492,0.377,2.071   c0.349,0.577,0.87,0.913,1.42,0.91l18.912-0.04l0.15-0.021l0.058,0.021l0.057-0.021l0.149,0.021l18.913,0.04   c0.551,0.002,1.072-0.333,1.42-0.91C4826.751,2937.852,4826.891,2937.092,4826.781,2936.36\" fill=\"#04556A\"/>\n",
        "\t<path d=\"M4791.88,2890.831c0.217,0.605,0.604,1.067,1.075,1.278c0.186,0.086,0.382,0.126,0.576,0.126   c0.293,0,0.585-0.096,0.85-0.284l11.513-8.186l11.532,8.137c0.265,0.187,0.556,0.282,0.847,0.282   c0.195-0.001,0.39-0.043,0.577-0.129c0.472-0.214,0.858-0.677,1.073-1.282l3.674-10.404c0.428-1.209,0.07-2.66-0.807-3.279   l-15.921-11.239c-0.312-0.22-0.659-0.305-0.997-0.268c-0.34-0.036-0.685,0.049-0.998,0.27l-15.896,11.308   c-0.876,0.624-1.229,2.076-0.799,3.284L4791.88,2890.831\" fill=\"#D0272B\"/>\n",
        "\t<path d=\"M4791.854,2869.031c0.216,0.608,0.605,1.069,1.075,1.28c0.188,0.084,0.383,0.125,0.577,0.125   c0.292,0,0.584-0.098,0.848-0.285l11.513-8.188l11.533,8.141c0.265,0.186,0.557,0.28,0.848,0.28c0.194,0,0.389-0.043,0.577-0.128   c0.47-0.214,0.858-0.676,1.071-1.283l3.676-10.401c0.427-1.211,0.071-2.662-0.807-3.281l-15.921-11.239   c-0.313-0.22-0.66-0.306-0.998-0.267c-0.339-0.037-0.685,0.051-0.997,0.271l-15.896,11.307c-0.875,0.622-1.229,2.075-0.798,3.284   L4791.854,2869.031\" fill=\"#04556A\"/>\n",
        "\t<path d=\"M4810.917,2813.852c-1.164,0.227-2.339-0.868-2.631-2.444c-0.291-1.576,0.415-3.038,1.577-3.264   c1.161-0.226,2.34,0.868,2.629,2.444C4812.783,2812.164,4812.076,2813.626,4810.917,2813.852z M4803.672,2811.408   c-0.291,1.576-1.467,2.671-2.63,2.444c-1.161-0.225-1.869-1.688-1.577-3.265c0.29-1.575,1.469-2.67,2.63-2.444   C4803.257,2808.37,4803.963,2809.831,4803.672,2811.408z M4826.303,2831.652c-4.274-3.2-9.096-5.475-13.559-8.159   c1.278-2.67,2.662-5.425,3.708-8.277c2.551-6.958-5.023-11.708-8.367-14.865l-1.135-0.844c-0.124-1.399-0.259-3.256-0.259-4.709   c0-2.68,1.783-6.653,1.783-6.653l-2.586,2.68l-2.585-2.68c0,0,1.781,3.973,1.781,6.653c0,1.452-0.131,3.306-0.252,4.705   l-1.141,0.848c-3.343,3.158-10.918,7.907-8.367,14.865c1.046,2.852,2.43,5.606,3.708,8.277c-4.463,2.684-9.284,4.959-13.56,8.159   c-1.026,0.767-1.431,2.494-0.919,3.925l4.457,12.518c0.26,0.731,0.729,1.287,1.295,1.541c0.226,0.103,0.462,0.152,0.695,0.152   c0.353-0.001,0.705-0.115,1.022-0.342l13.864-9.861l13.864,9.861c0.317,0.226,0.668,0.341,1.022,0.342   c0.232,0,0.469-0.049,0.694-0.152c0.568-0.254,1.037-0.809,1.296-1.541l4.457-12.518   C4827.734,2834.146,4827.329,2832.419,4826.303,2831.652\" fill=\"#D0272B\"/>\n",
        "\t<path d=\"M4882.667,2889.938c5.603,0,9.297-2.892,9.297-13.956c-0.127-10.813-4.84-12.95-9.297-12.95h-20.883v26.906   H4882.667z M4843.956,2847.442h40.112c11.715,0,25.85,3.646,25.85,28.414c0,28.038-15.154,30.049-25.85,29.672   c-5.094-0.251-21.647-2.263-22.284-2.514v36.461h-17.828V2847.442\" fill=\"#04556A\"/>\n",
        "\t<path d=\"M4934.617,2847.442l18.21,44.13l19.993-44.13h19.355l-30.688,63.492v28.541h-17.828v-28.541l-28.397-63.492   H4934.617\" fill=\"#04556A\"/>\n",
        "\t<path d=\"M5031.518,2846.437c12.989,0,22.413,1.257,32.473,4.149v13.83c-0.129,0-15.792-1.76-28.271-1.76   c-13.116,0-18.082,2.892-18.082,30.804c0,20.619,3.438,30.552,18.082,30.552c13.371,0,28.271-1.006,28.271-1.006v13.705   c-8.405,2.64-19.102,3.771-32.473,3.52c-23.557-0.251-31.707-17.853-31.707-47.022   C4999.811,2863.787,5006.178,2846.437,5031.518,2846.437\" fill=\"#D0272B\"/>\n",
        "\t<path d=\"M5114.16,2923.759c15.025,0,19.61-4.904,19.61-29.672c0-28.666-0.418-31.055-14.553-31.055   c-13.753,0-24.668,1.761-24.668,31.055C5094.549,2919.233,5098.242,2923.759,5114.16,2923.759z M5119.217,2846.814   c22.029,0,32.38,4.149,32.38,47.273c0,40.61-14.517,45.89-37.438,45.89c-22.921,0-37.438-4.023-37.438-45.89   C5076.721,2850.962,5097.824,2846.814,5119.217,2846.814\" fill=\"#D0272B\"/>\n",
        "\t<path d=\"M5173.112,2847.442h18.083l36.928,59.469v-59.469h17.827v92.033h-17.827l-37.055-58.841v58.841h-17.956   V2847.442\" fill=\"#D0272B\"/>\n",
        "\t<g>\n",
        "\t\t<path d=\"M5205.187,2806.618h-2.106v7.407h2.106c0.554,0,1.025-0.197,1.413-0.591    c0.388-0.394,0.582-0.868,0.582-1.423v-3.381c0-0.603-0.182-1.09-0.545-1.459    C5206.273,2806.803,5205.79,2806.618,5205.187,2806.618z\" fill=\"#6E6F72\"/>\n",
        "\t\t<polygon fill=\"#6E6F72\" points=\"5190.453,2817.48 5193.039,2817.48 5191.746,2808.355   \"/>\n",
        "\t\t<polygon fill=\"#6E6F72\" points=\"5214.736,2817.48 5217.322,2817.48 5216.029,2808.355   \"/>\n",
        "\t\t<path d=\"M5237.851,2791.896h-113.817c-4.294,0-7.775,3.481-7.775,7.774v29.47c0,4.294,3.481,7.774,7.775,7.774    h113.816c4.294,0,7.775-3.481,7.775-7.774v-29.47C5245.625,2795.376,5242.144,2791.896,5237.851,2791.896z M5140.101,2822.764    v3.417h-11.103v-3.203c0-0.074,0.254-0.499,0.762-1.278c0.235-0.356,0.5-0.749,0.798-1.18l0.91-1.309    c0.529-0.726,1.362-1.889,2.496-3.49c1.072-1.502,1.875-2.862,2.405-4.081c0.432-0.997,0.647-1.927,0.647-2.789    c0-0.701-0.197-1.299-0.59-1.791c-0.432-0.517-0.985-0.775-1.663-0.775c-0.973,0-1.663,0.561-2.068,1.681    c-0.136,0.369-0.203,0.813-0.203,1.33v0.887h-3.436v-0.61c0-2.192,0.591-3.867,1.774-5.025c1.021-1.022,2.364-1.533,4.027-1.533    c1.526,0,2.829,0.572,3.907,1.718c1.078,1.145,1.616,2.482,1.616,4.009c0,1.576-0.351,3.098-1.053,4.563    c-0.381,0.813-1.275,2.211-2.679,4.194c-0.381,0.542-0.948,1.385-1.7,2.531l-0.628,0.942c-0.406,0.616-0.714,1.103-0.923,1.46    c-0.099,0.183-0.148,0.293-0.148,0.332h6.853V2822.764z M5152.907,2820.917c0,1.54-0.542,2.845-1.625,3.916    c-1.084,1.071-2.383,1.608-3.898,1.608c-1.54,0-2.848-0.539-3.926-1.616c-1.078-1.077-1.616-2.38-1.616-3.907v-12.636    c0-1.539,0.542-2.847,1.626-3.926c1.083-1.077,2.389-1.616,3.916-1.616c1.54,0,2.845,0.542,3.917,1.626    c1.071,1.084,1.607,2.389,1.607,3.916V2820.917z M5160.891,2826.2h-3.492v-17.827h-2.974v-2.439    c0.836-0.098,1.635-0.415,2.392-0.951c0.758-0.535,1.303-1.185,1.635-1.949h2.438L5160.891,2826.2L5160.891,2826.2z     M5175.006,2821.194h-2.235v4.988h-3.491v-4.988h-6.17v-3.51l6.17-14.668h3.491v14.668h2.235V2821.194z M5194.375,2826.2    l-0.817-5.321h-3.646l-0.848,5.321h-3.635l3.935-23.148h4.802l3.879,23.148H5194.375z M5205.094,2817.48h-2.014v8.719h-3.491    v-23.148h5.505c1.699,0,3.054,0.536,4.064,1.608c0.936,1.022,1.404,2.328,1.404,3.916v3.362c0,1.527-0.533,2.833-1.598,3.916    C5207.899,2816.939,5206.608,2817.48,5205.094,2817.48z M5218.658,2826.2l-0.817-5.321h-3.646l-0.848,5.321h-3.635l3.935-23.148    h4.803l3.879,23.148H5218.658z M5234.392,2810.978h-3.622v-2.715c0-0.554-0.196-1.028-0.591-1.423    c-0.395-0.394-0.868-0.591-1.423-0.591c-0.554,0-1.025,0.197-1.413,0.591c-0.388,0.395-0.582,0.868-0.582,1.423v12.673    c0,0.554,0.194,1.025,0.582,1.413c0.388,0.388,0.859,0.582,1.413,0.582c0.555,0,1.028-0.194,1.423-0.582    c0.395-0.388,0.591-0.859,0.591-1.413v-3.196h3.622v3.233c0,1.54-0.542,2.845-1.625,3.916c-1.084,1.071-2.384,1.608-3.899,1.608    c-1.54,0-2.847-0.539-3.925-1.616c-1.079-1.077-1.616-2.38-1.616-3.907v-12.636c0-1.539,0.542-2.847,1.625-3.926    c1.084-1.077,2.39-1.616,3.916-1.616c1.54,0,2.845,0.542,3.917,1.626c1.07,1.084,1.607,2.389,1.607,3.916V2810.978z\" fill=\"#6E6F72\"/>\n",
        "\t\t<path d=\"M5147.273,2806.193c-0.554,0-1.025,0.197-1.414,0.591c-0.388,0.394-0.583,0.868-0.583,1.423v12.654    c0,0.554,0.195,1.028,0.583,1.423c0.388,0.394,0.859,0.591,1.414,0.591s1.028-0.197,1.423-0.591    c0.394-0.394,0.591-0.868,0.591-1.423v-12.654c0-0.554-0.197-1.028-0.591-1.423    C5148.301,2806.39,5147.827,2806.193,5147.273,2806.193z\" fill=\"#6E6F72\"/>\n",
        "\t\t<polygon fill=\"#6E6F72\" points=\"5169.28,2817.683 5169.28,2810.449 5166.396,2817.683   \"/>\n",
        "\t</g>\n",
        "</g>\n",
        "</svg></a>\n",
        "<style>\n",
        "a.svg:after {\n",
        "  content: \"\";\n",
        "  position: absolute;\n",
        "  top: 0;\n",
        "  right: 0;\n",
        "  bottom: 0;\n",
        "  left: 0;\n",
        "}\n",
        "</style>\n"
       ],
       "metadata": {},
       "output_type": "pyout",
       "prompt_number": 2014,
       "text": [
        "<IPython.core.display.HTML at 0x10ab91b50>"
       ]
      }
     ],
     "prompt_number": 2014
    },
    {
     "cell_type": "code",
     "collapsed": false,
     "input": [
      "# click the logo for more infomation!"
     ],
     "language": "python",
     "metadata": {},
     "outputs": [],
     "prompt_number": 2014
    },
    {
     "cell_type": "code",
     "collapsed": false,
     "input": [
      "help(PyConAPAC.call_for_proposal)"
     ],
     "language": "python",
     "metadata": {
      "slideshow": {
       "slide_type": "fragment"
      }
     },
     "outputs": [
      {
       "metadata": {},
       "output_type": "pyout",
       "prompt_number": 2014,
       "html": [
        "<pre>PyCon APAC 2014 Call for Proposal !!\n",
        "\n",
        "    PyCon APAC 2014 is now accepting all types of proposals.\n",
        "    In addition to regular and lightning talks, you can also \n",
        "    submit proposals for tutorials and for SciPy Track.\n",
        "    Please refer to the detail page below:</pre>",
        "<p style=\"text-indent:4;font-family:monospace\">&nbsp&nbsp&nbsp&nbsp<a href=\"http://tw.pycon.org/2014apac/en/call-for-proposals/\">http://tw.pycon.org/2014apac/en/call-for-proposals/</a></p>"
       ]
      }
     ],
     "prompt_number": 2014
    }
   ],
   "metadata": {}
  }
 ]
}
