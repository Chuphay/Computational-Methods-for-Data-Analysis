{
 "metadata": {
  "name": ""
 },
 "nbformat": 3,
 "nbformat_minor": 0,
 "worksheets": [
  {
   "cells": [
    {
     "cell_type": "code",
     "collapsed": false,
     "input": [
      "%matplotlib inline"
     ],
     "language": "python",
     "metadata": {},
     "outputs": [],
     "prompt_number": 1
    },
    {
     "cell_type": "code",
     "collapsed": false,
     "input": [
      "import matplotlib.pylab as pylab\n",
      "pylab.rcParams['figure.figsize'] = 16, 12"
     ],
     "language": "python",
     "metadata": {},
     "outputs": [],
     "prompt_number": 2
    },
    {
     "cell_type": "markdown",
     "metadata": {},
     "source": [
      "# Video: W04_L011_P01"
     ]
    },
    {
     "cell_type": "markdown",
     "metadata": {},
     "source": [
      "# Diffusion and Image Processing"
     ]
    },
    {
     "cell_type": "markdown",
     "metadata": {},
     "source": [
      "-    ## Heat Equation: $$u_t = D u_{xx}$$\n",
      "-    ## Assume Perodic boundary and use Fourier Transform \n",
      "-    ## Fourier Transform of differential: $$\\widehat{u^{(n)}} = (ik)^n \\widehat{u}$$"
     ]
    },
    {
     "cell_type": "markdown",
     "metadata": {},
     "source": [
      "# Solving the heat equation with periodic boundary with FT:"
     ]
    },
    {
     "cell_type": "markdown",
     "metadata": {},
     "source": [
      "-    ## Transform Equation: $$\\frac{\\partial \\widehat{u}}{\\partial t} = D (ik)^2 \\widehat{u} = -Dk^2 \\widehat{u}$$\n",
      "\n",
      "-    ## Solve ODE: $$ \\widehat{u} = \\widehat{u}_0 e^{ - D (ik)^2 t} $$"
     ]
    },
    {
     "cell_type": "markdown",
     "metadata": {},
     "source": [
      "(06:04)"
     ]
    },
    {
     "cell_type": "code",
     "collapsed": false,
     "input": [],
     "language": "python",
     "metadata": {},
     "outputs": []
    }
   ],
   "metadata": {}
  }
 ]
}