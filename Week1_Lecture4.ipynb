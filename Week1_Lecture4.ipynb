{
 "metadata": {
  "name": ""
 },
 "nbformat": 3,
 "nbformat_minor": 0,
 "worksheets": [
  {
   "cells": [
    {
     "cell_type": "code",
     "collapsed": false,
     "input": [
      "%matplotlib inline"
     ],
     "language": "python",
     "metadata": {},
     "outputs": [],
     "prompt_number": 1
    },
    {
     "cell_type": "markdown",
     "metadata": {},
     "source": [
      "# Video: W02_L04_P01"
     ]
    },
    {
     "cell_type": "markdown",
     "metadata": {},
     "source": [
      "# Video: W02_L04_P02"
     ]
    },
    {
     "cell_type": "markdown",
     "metadata": {},
     "source": [
      "# Gabor Transform\n",
      "\n",
      "- ## Fourier Transform: $$ F(\\omega) = \\int_{-\\infty}^{\\infty} f(t) e^{i\\omega t}dt$$\n",
      "\n",
      "- ## STFT => Gabor : $$ G_g[f](t,\\omega) = \\widetilde{f}_g (t,\\omega) = \\int_{-\\infty}^{\\infty} f(\\tau)g(\\tau-t) e^{i\\omega \\tau}d\\tau$$\n"
     ]
    },
    {
     "cell_type": "markdown",
     "metadata": {},
     "source": [
      "## Window Fourier Transform is just like ... Music Sheets ...\n",
      "\n",
      "![](http://www.pianomother.com/assets/images/FreeSheetMusic/Canon-in-d-sheet-music.jpg)\n",
      "\n",
      "## It include the frequency information (chord) ) at each time slice (bar) ...\n",
      "- http://en.wikipedia.org/wiki/Chord_(music)\n",
      "- http://en.wikipedia.org/wiki/Bar_(music)\n"
     ]
    },
    {
     "cell_type": "code",
     "collapsed": false,
     "input": [],
     "language": "python",
     "metadata": {},
     "outputs": []
    },
    {
     "cell_type": "code",
     "collapsed": false,
     "input": [],
     "language": "python",
     "metadata": {},
     "outputs": []
    },
    {
     "cell_type": "code",
     "collapsed": false,
     "input": [],
     "language": "python",
     "metadata": {},
     "outputs": []
    }
   ],
   "metadata": {}
  }
 ]
}