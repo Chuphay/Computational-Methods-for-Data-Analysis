{
 "metadata": {
  "name": ""
 },
 "nbformat": 3,
 "nbformat_minor": 0,
 "worksheets": [
  {
   "cells": [
    {
     "cell_type": "code",
     "collapsed": false,
     "input": [
      "%matplotlib inline"
     ],
     "language": "python",
     "metadata": {},
     "outputs": [],
     "prompt_number": 1
    },
    {
     "cell_type": "code",
     "collapsed": false,
     "input": [
      "import matplotlib.pylab as pylab\n",
      "pylab.rcParams['figure.figsize'] = 16, 12"
     ],
     "language": "python",
     "metadata": {},
     "outputs": [],
     "prompt_number": 2
    },
    {
     "cell_type": "markdown",
     "metadata": {},
     "source": [
      "# Documents & Examples Survey:\n",
      "\n",
      "-    ## [Example1](http://dwightreid.com/blog/2013/03/06/python-solving-second-order-differential-equations/) using scipy.integrate.odeint"
     ]
    },
    {
     "cell_type": "markdown",
     "metadata": {},
     "source": [
      "## Example1: (using scipy.integrate.odeint)"
     ]
    },
    {
     "cell_type": "code",
     "collapsed": false,
     "input": [
      "import numpy as np\n",
      "from scipy import integrate\n",
      "\n",
      "\n",
      "\n",
      "def rlc(A,t): \n",
      "    Vc,x=A \n",
      "    V = 1.0 #voltageSource\n",
      "    R = 5.0\n",
      "    L=100.0e-9 #100nH\n",
      "    C = 1.0e-9 #1nF\n",
      "    res=np.array([x,(V-Vc-(x*R*C))/(L*C)])\n",
      "    return res\n",
      "\n",
      "time = np.linspace(0.0,0.6e-6,1001)\n",
      "vc,x = integrate.odeint(rlc,[0.0,0.0],time).T\n",
      "i=1.0e-9*x\n",
      "\n",
      "pylab.figure()\n",
      "pylab.plot(time,vc)\n",
      "pylab.xlabel('t')\n",
      "pylab.ylabel('Vc')\n",
      "pylab.show()"
     ],
     "language": "python",
     "metadata": {},
     "outputs": [
      {
       "metadata": {},
       "output_type": "display_data",
       "png": "[encoded data removed]",
       "text": [
        "<matplotlib.figure.Figure at 0x2ce8510>"
       ]
      }
     ],
     "prompt_number": 4
    },
    {
     "cell_type": "code",
     "collapsed": false,
     "input": [],
     "language": "python",
     "metadata": {},
     "outputs": []
    },
    {
     "cell_type": "code",
     "collapsed": false,
     "input": [],
     "language": "python",
     "metadata": {},
     "outputs": []
    },
    {
     "cell_type": "markdown",
     "metadata": {},
     "source": [
      "## [Testing Problem](http://www.math.ncku.edu.tw/~mhchen/NDE/nde_hw3.pdf):"
     ]
    },
    {
     "cell_type": "code",
     "collapsed": false,
     "input": [
      "from scipy.integrate import ode\n",
      "T = 2\n",
      "mu = 520\n",
      "\n",
      "y0, t0 = 4, 0\n",
      "dt = 0.1\n",
      "\n",
      "f = lambda y,t,mu: -mu*(y-t**2)+2*t\n",
      "r = ode(f).set_integrator('zvode', method='bdf', with_jacobian=False)\n",
      "r.set_initial_value(y0, t0).set_f_params(0.1)\n",
      "\n",
      "while r.successful() and r.t < T:\n",
      "    r.integrate(r.t+dt)\n",
      "    print r.t\n",
      "    print r.y\n",
      "\n",
      "\n"
     ],
     "language": "python",
     "metadata": {},
     "outputs": [
      {
       "output_type": "stream",
       "stream": "stdout",
       "text": [
        "0.1\n",
        "[ 5.11144911+0.j]\n",
        "0.2\n",
        "[ 6.61586201+0.j]\n",
        "0.3\n",
        "[ 8.71627201+0.j]\n",
        "0.4\n",
        "[ 11.77875977+0.j]\n",
        "0.5\n",
        "[ 16.53811297+0.j]\n",
        "0.6\n",
        "[ 24.71921183+0.j]\n",
        "0.7\n",
        "[ 41.55673605+0.j]\n",
        "0.8\n",
        "[ 93.98653037+0.j]\n",
        "0.896464863382\n",
        "[  8.94298438e+12+0.j]\n"
       ]
      }
     ],
     "prompt_number": 23
    },
    {
     "cell_type": "code",
     "collapsed": false,
     "input": [],
     "language": "python",
     "metadata": {},
     "outputs": []
    },
    {
     "cell_type": "code",
     "collapsed": false,
     "input": [
      "from scipy.integrate import ode\n",
      "T = 2\n",
      "mu = -2\n",
      "\n",
      "y0, t0 = 4, 0\n",
      "dt = 0.1\n",
      "\n",
      "f = lambda y,t,mu: mu*y\n",
      "r = ode(f).set_integrator('dopri5')\n",
      "r.set_initial_value(y0, t0).set_f_params(-1)\n",
      "\n",
      "while r.successful() and r.t < T:\n",
      "    r.integrate(r.t+dt)\n",
      "    print r.t, r.y[0]\n"
     ],
     "language": "python",
     "metadata": {},
     "outputs": [
      {
       "output_type": "stream",
       "stream": "stdout",
       "text": [
        "0.1 3.995\n",
        "0.2 3.98\n",
        "0.3 3.955\n",
        "0.4 3.92\n",
        "0.5 3.875\n",
        "0.6 3.82\n",
        "0.7 3.755\n",
        "0.8 3.68\n",
        "0.9 3.595\n",
        "1.0 3.5\n",
        "1.1 3.395\n",
        "1.2 3.28\n",
        "1.3 3.155\n",
        "1.4 3.02\n",
        "1.5 2.875\n",
        "1.6 2.72\n",
        "1.7 2.555\n",
        "1.8 2.38\n",
        "1.9 2.195\n",
        "2.0 2.0\n"
       ]
      }
     ],
     "prompt_number": 32
    },
    {
     "cell_type": "markdown",
     "metadata": {},
     "source": [
      "# ODE Reference:\n",
      "\n",
      "-    ## http://modelling3e4.connectmv.com/wiki/Software_tutorial/Integration_of_ODEs\n",
      "-    ## http://dwightreid.com/blog/education-2/differential-equations-python/first-order-differential-equations-python/\n",
      "-    ## http://dwightreid.com/blog/2013/03/06/python-solving-second-order-differential-equations/\n",
      "\n",
      "\n",
      "\n",
      "# Scipy & Numerical Reference:\n",
      "\n",
      "-    ## http://www.tau.ac.il/~kineret/amit/scipy_tutorial/\n",
      "-    ## [Plot RK Stability Region] http://www.scientificpython.net/1/post/2012/06/collocation-runge-kutta-methods.html\n",
      "-    ## [NodePy] http://numerics.kaust.edu.sa/nodepy/\n",
      "\n",
      "\n",
      "# Scipy Official Docs:\n",
      "\n",
      "-    ## http://docs.scipy.org/doc/scipy/reference/generated/scipy.integrate.odeint.html\n",
      "-    ## http://docs.scipy.org/doc/scipy/reference/generated/scipy.integrate.ode.html#scipy.integrate.ode\n",
      "-    ## http://docs.scipy.org/doc/scipy/reference/tutorial/integrate.html\n",
      "\n"
     ]
    },
    {
     "cell_type": "code",
     "collapsed": false,
     "input": [
      "\n",
      "\n"
     ],
     "language": "python",
     "metadata": {},
     "outputs": []
    }
   ],
   "metadata": {}
  }
 ]
}