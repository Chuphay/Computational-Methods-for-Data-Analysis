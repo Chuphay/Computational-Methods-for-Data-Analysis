{
 "metadata": {
  "name": ""
 },
 "nbformat": 3,
 "nbformat_minor": 0,
 "worksheets": [
  {
   "cells": [
    {
     "cell_type": "code",
     "collapsed": false,
     "input": [
      "%matplotlib inline"
     ],
     "language": "python",
     "metadata": {},
     "outputs": [],
     "prompt_number": 1
    },
    {
     "cell_type": "markdown",
     "metadata": {},
     "source": [
      "# Video: W02_L05_P01"
     ]
    },
    {
     "cell_type": "markdown",
     "metadata": {},
     "source": [
      "## Page 283 at [Lecture Notes](http://spark-public.s3.amazonaws.com/compmethods/Lecture%20Note%20Packet/LectureNotePacketSciCompMeth.pdf)"
     ]
    },
    {
     "cell_type": "markdown",
     "metadata": {},
     "source": [
      "# Video: W02_L05_P02"
     ]
    },
    {
     "cell_type": "code",
     "collapsed": false,
     "input": [],
     "language": "python",
     "metadata": {},
     "outputs": []
    }
   ],
   "metadata": {}
  }
 ]
}